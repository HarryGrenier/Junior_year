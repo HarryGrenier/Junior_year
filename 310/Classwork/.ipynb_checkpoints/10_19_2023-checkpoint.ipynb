{
 "cells": [
  {
   "cell_type": "markdown",
   "id": "ce17dc88-5424-4960-9a87-9eeb46d42a66",
   "metadata": {
    "tags": []
   },
   "source": [
    "# Understanding classiication"
   ]
  },
  {
   "cell_type": "code",
   "execution_count": 2,
   "id": "01e66651-e5cb-4465-a219-b60abe418c8f",
   "metadata": {
    "tags": []
   },
   "outputs": [],
   "source": [
    "import pandas as pd\n",
    "import seaborn as sns\n",
    "from sklearn import tree\n",
    "import matplotlib.pyplot as plt\n",
    "from sklearn.model_selection import train_test_split\n",
    "from sklearn.naive_bayes import GaussianNB\n",
    "from sklearn import metrics\n",
    "sns.set_theme(palette='colorblind') # this improves contrast\n",
    "\n",
    "\n",
    "from sklearn.metrics import confusion_matrix, classification_report"
   ]
  },
  {
   "cell_type": "code",
   "execution_count": 4,
   "id": "9fcb5a73-c084-4cce-8e73-3354c007d9c5",
   "metadata": {
    "tags": []
   },
   "outputs": [],
   "source": [
    "iris_df = sns.load_dataset('iris')"
   ]
  },
  {
   "cell_type": "code",
   "execution_count": 3,
   "id": "5e567636-36b8-43c4-b9db-92e9a7e4deb0",
   "metadata": {
    "tags": []
   },
   "outputs": [
    {
     "ename": "NameError",
     "evalue": "name 'iris_df' is not defined",
     "output_type": "error",
     "traceback": [
      "\u001b[1;31m---------------------------------------------------------------------------\u001b[0m",
      "\u001b[1;31mNameError\u001b[0m                                 Traceback (most recent call last)",
      "Cell \u001b[1;32mIn[3], line 5\u001b[0m\n\u001b[0;32m      3\u001b[0m feature_vars \u001b[38;5;241m=\u001b[39m []\n\u001b[0;32m      4\u001b[0m target_var \u001b[38;5;241m=\u001b[39m \u001b[38;5;124m'\u001b[39m\u001b[38;5;124m'\u001b[39m\n\u001b[1;32m----> 5\u001b[0m X_train, X_test, y_train, y_test \u001b[38;5;241m=\u001b[39m train_test_split(iris_df[feature_vars],iris_df[target_var],random_state\u001b[38;5;241m=\u001b[39m\u001b[38;5;241m3\u001b[39m)\n",
      "\u001b[1;31mNameError\u001b[0m: name 'iris_df' is not defined"
     ]
    }
   ],
   "source": [
    "# dataset vars:\n",
    "# 'petal_width',  'sepal_length','species', 'sepal_width','petal_length',\n",
    "feature_vars = ['petal_width','sepal_length', 'sepal_width','petal_length']\n",
    "target_var = 'species'\n",
    "X_train, X_test, y_train, y_test = train_test_split(iris_df[feature_vars],iris_df[target_var],random_state=3)"
   ]
  },
  {
   "cell_type": "code",
   "execution_count": null,
   "id": "393dcd8b-5e87-46a9-99b2-6b38d23272e2",
   "metadata": {},
   "outputs": [],
   "source": []
  }
 ],
 "metadata": {
  "kernelspec": {
   "display_name": "Python 3 (ipykernel)",
   "language": "python",
   "name": "python3"
  },
  "language_info": {
   "codemirror_mode": {
    "name": "ipython",
    "version": 3
   },
   "file_extension": ".py",
   "mimetype": "text/x-python",
   "name": "python",
   "nbconvert_exporter": "python",
   "pygments_lexer": "ipython3",
   "version": "3.11.4"
  }
 },
 "nbformat": 4,
 "nbformat_minor": 5
}
