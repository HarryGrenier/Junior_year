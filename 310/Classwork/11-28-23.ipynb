{
 "cells": [
  {
   "cell_type": "code",
   "execution_count": 1,
   "id": "760a0679-1813-4e81-9994-eb49407d80ba",
   "metadata": {
    "tags": []
   },
   "outputs": [],
   "source": [
    "from sklearn.feature_extraction import text\n",
    "from sklearn.metrics.pairwise import euclidean_distances\n",
    "from sklearn import datasets\n",
    "import pandas as pd\n",
    "from sklearn.naive_bayes import MultinomialNB\n",
    "from sklearn.model_selection import train_test_split\n",
    "\n",
    "ng_X,ng_y = datasets.fetch_20newsgroups(categories =['comp.graphics','sci.crypt'],\n",
    "                                       return_X_y = True)"
   ]
  },
  {
   "cell_type": "code",
   "execution_count": 3,
   "id": "6833065a-18e7-409a-ae08-716e514b978a",
   "metadata": {},
   "outputs": [],
   "source": [
    "count_vec = text.CountVectorizer()\n",
    "ng_vec = count_vec.fit_transform(ng_X)"
   ]
  },
  {
   "cell_type": "code",
   "execution_count": 4,
   "id": "ad5e36b4-5c91-4bd4-8585-ba10fbc47092",
   "metadata": {
    "tags": []
   },
   "outputs": [],
   "source": [
    "clf = MultinomialNB()"
   ]
  },
  {
   "cell_type": "code",
   "execution_count": 5,
   "id": "02d8dcaf-6f2b-4223-a8d9-261e61206182",
   "metadata": {
    "tags": []
   },
   "outputs": [],
   "source": [
    "ng_vec_train, ng_vec_test, ng_y_train, ng_y_test = train_test_split(ng_vec,ng_y)"
   ]
  },
  {
   "cell_type": "code",
   "execution_count": 6,
   "id": "f89a0e4a-c5f9-429b-a96f-09a5c495c14a",
   "metadata": {
    "tags": []
   },
   "outputs": [
    {
     "data": {
      "text/plain": [
       "0.976271186440678"
      ]
     },
     "execution_count": 6,
     "metadata": {},
     "output_type": "execute_result"
    }
   ],
   "source": [
    "clf.fit(ng_vec_train,ng_y_train).score(ng_vec_test,ng_y_test)"
   ]
  },
  {
   "cell_type": "code",
   "execution_count": 7,
   "id": "1da0cd1d-bd96-4f36-9cb1-fcbb7f75b85e",
   "metadata": {
    "tags": []
   },
   "outputs": [
    {
     "data": {
      "text/plain": [
       "array([41,  0], dtype=int64)"
      ]
     },
     "execution_count": 7,
     "metadata": {},
     "output_type": "execute_result"
    }
   ],
   "source": [
    "ng_vec[:2].toarray()[:,21691]"
   ]
  },
  {
   "cell_type": "code",
   "execution_count": null,
   "id": "a1b21167-052d-4497-bad0-0dcf92d2b48d",
   "metadata": {},
   "outputs": [],
   "source": []
  }
 ],
 "metadata": {
  "kernelspec": {
   "display_name": "Python 3 (ipykernel)",
   "language": "python",
   "name": "python3"
  },
  "language_info": {
   "codemirror_mode": {
    "name": "ipython",
    "version": 3
   },
   "file_extension": ".py",
   "mimetype": "text/x-python",
   "name": "python",
   "nbconvert_exporter": "python",
   "pygments_lexer": "ipython3",
   "version": "3.11.4"
  }
 },
 "nbformat": 4,
 "nbformat_minor": 5
}
