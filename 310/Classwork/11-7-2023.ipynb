{
 "cells": [
  {
   "cell_type": "code",
   "execution_count": 1,
   "id": "ab104a48-7a4f-4d12-be55-596d327986c6",
   "metadata": {},
   "outputs": [],
   "source": [
    "# basic libraries\n",
    "import numpy as np\n",
    "import pandas as pd\n",
    "import seaborn as sns\n",
    "import matplotlib.pyplot as plt\n",
    "# models classes\n",
    "from sklearn import tree\n",
    "from sklearn import cluster\n",
    "from sklearn import svm\n",
    "# datasets\n",
    "from sklearn import datasets\n",
    "# model selection tools\n",
    "from sklearn.model_selection import GridSearchCV\n",
    "from sklearn.model_selection import cross_val_score\n",
    "from sklearn.model_selection import train_test_split\n",
    "from sklearn import metrics"
   ]
  },
  {
   "cell_type": "code",
   "execution_count": 2,
   "id": "d2fdbe29-9fdf-4415-bb7b-f685015c9f12",
   "metadata": {
    "tags": []
   },
   "outputs": [],
   "source": [
    "iris_X, iris_y = datasets.load_iris(return_X_y=True)"
   ]
  },
  {
   "cell_type": "code",
   "execution_count": 3,
   "id": "babeac5c-50c0-4604-bf60-92b283ba58c2",
   "metadata": {
    "tags": []
   },
   "outputs": [
    {
     "data": {
      "text/plain": [
       "(numpy.ndarray, numpy.ndarray)"
      ]
     },
     "execution_count": 3,
     "metadata": {},
     "output_type": "execute_result"
    }
   ],
   "source": [
    "type(iris_X), type(iris_y)"
   ]
  },
  {
   "cell_type": "code",
   "execution_count": 4,
   "id": "af60e6a3-075a-4417-9227-5ae9841ea8c7",
   "metadata": {
    "tags": []
   },
   "outputs": [
    {
     "data": {
      "text/plain": [
       "((150, 4), (150,))"
      ]
     },
     "execution_count": 4,
     "metadata": {},
     "output_type": "execute_result"
    }
   ],
   "source": [
    "iris_X.shape, iris_y.shape"
   ]
  },
  {
   "cell_type": "code",
   "execution_count": 16,
   "id": "8fc72b2f-585b-4b9f-a589-e87b0499e73e",
   "metadata": {
    "tags": []
   },
   "outputs": [],
   "source": [
    "dt = tree.DecisionTreeClassifier()"
   ]
  },
  {
   "cell_type": "code",
   "execution_count": 6,
   "id": "a0c33e47-8cf5-48ba-914a-6f62e9ece4f4",
   "metadata": {
    "tags": []
   },
   "outputs": [],
   "source": [
    "iris_X_train,iris_X_test, iris_y_train, iris_y_test = train_test_split(iris_X, iris_y)"
   ]
  },
  {
   "cell_type": "code",
   "execution_count": 17,
   "id": "14c34fef-17a6-46f3-927d-9fd9b808ca63",
   "metadata": {
    "tags": []
   },
   "outputs": [
    {
     "data": {
      "text/plain": [
       "0.9371212121212119"
      ]
     },
     "execution_count": 17,
     "metadata": {},
     "output_type": "execute_result"
    }
   ],
   "source": [
    "np.mean(cross_val_score(dt,iris_X_train,iris_y_train,cv=10))"
   ]
  },
  {
   "cell_type": "code",
   "execution_count": null,
   "id": "f9d7bc2a-f686-4da7-9d6f-e4b07fface31",
   "metadata": {},
   "outputs": [],
   "source": []
  },
  {
   "cell_type": "code",
   "execution_count": null,
   "id": "a0533130-6650-4d33-9a01-e81761859734",
   "metadata": {},
   "outputs": [],
   "source": []
  }
 ],
 "metadata": {
  "kernelspec": {
   "display_name": "Python 3 (ipykernel)",
   "language": "python",
   "name": "python3"
  },
  "language_info": {
   "codemirror_mode": {
    "name": "ipython",
    "version": 3
   },
   "file_extension": ".py",
   "mimetype": "text/x-python",
   "name": "python",
   "nbconvert_exporter": "python",
   "pygments_lexer": "ipython3",
   "version": "3.11.4"
  }
 },
 "nbformat": 4,
 "nbformat_minor": 5
}
