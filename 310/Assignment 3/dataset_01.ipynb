{
 "cells": [
  {
   "cell_type": "code",
   "execution_count": 1,
   "id": "b982441e-0448-429a-a48d-bbc390da9a22",
   "metadata": {
    "tags": []
   },
   "outputs": [],
   "source": [
    "import pandas as pd"
   ]
  },
  {
   "cell_type": "code",
   "execution_count": 2,
   "id": "8f5c790f-49bf-4861-b587-64775e9cd0a6",
   "metadata": {
    "tags": []
   },
   "outputs": [],
   "source": [
    "url = \"https://raw.githubusercontent.com/rfordatascience/tidytuesday/master/data/2022/2022-11-01/horror_movies.csv\""
   ]
  },
  {
   "cell_type": "code",
   "execution_count": 3,
   "id": "55b8c362-56df-492e-8650-4f3892f3c18c",
   "metadata": {
    "tags": []
   },
   "outputs": [],
   "source": [
    "horror_df = pd.read_csv(url)"
   ]
  },
  {
   "cell_type": "code",
   "execution_count": 4,
   "id": "4328e8e2-ad3b-42ae-9a2a-cf78a0241e28",
   "metadata": {
    "tags": []
   },
   "outputs": [
    {
     "name": "stdout",
     "output_type": "stream",
     "text": [
      "            id                              original_title  \\\n",
      "0       760161                          Orphan: First Kill   \n",
      "1       760741                                       Beast   \n",
      "2       882598                                       Smile   \n",
      "3       756999                             The Black Phone   \n",
      "4       772450                                  Presencias   \n",
      "...        ...                                         ...   \n",
      "32535  1032201                             Catch a Butcher   \n",
      "32536  1032667  Shaye Saint John: The Triggers Compilation   \n",
      "32537  1032890                Welcome to the Occult Forest   \n",
      "32538  1033052                                The Mean One   \n",
      "32539  1033095                              Secret Formula   \n",
      "\n",
      "                                            title original_language  \\\n",
      "0                              Orphan: First Kill                en   \n",
      "1                                           Beast                en   \n",
      "2                                           Smile                en   \n",
      "3                                 The Black Phone                en   \n",
      "4                                       Presences                es   \n",
      "...                                           ...               ...   \n",
      "32535                             Catch a Butcher                en   \n",
      "32536  Shaye Saint John: The Triggers Compilation                en   \n",
      "32537                Welcome to the Occult Forest                en   \n",
      "32538                                The Mean One                en   \n",
      "32539                              Secret Formula                en   \n",
      "\n",
      "                                                overview  \\\n",
      "0      After escaping from an Estonian psychiatric fa...   \n",
      "1      A recently widowed man and his two teenage dau...   \n",
      "2      After witnessing a bizarre, traumatic incident...   \n",
      "3      Finney Blake, a shy but clever 13-year-old boy...   \n",
      "4      A man who loses his wife and goes to seclude h...   \n",
      "...                                                  ...   \n",
      "32535  In a maternity ward in nineteenth-century Indi...   \n",
      "32536  A bizarre mix of early Tod Hayne's and Phyllis...   \n",
      "32537  A washed up horror film director named Kôji Ku...   \n",
      "32538  The Mean One is a hairy, green-skinned grump i...   \n",
      "32539                                                NaN   \n",
      "\n",
      "                                                 tagline release_date  \\\n",
      "0       There's always been something wrong with Esther.   2022-07-27   \n",
      "1                                      Fight for family.   2022-08-11   \n",
      "2                        Once you see it, it’s too late.   2022-09-23   \n",
      "3                               Never talk to strangers.   2022-06-22   \n",
      "4                                                    NaN   2022-09-07   \n",
      "...                                                  ...          ...   \n",
      "32535                                                NaN   2021-11-20   \n",
      "32536  \"Just keep in mind, that you'll be trying to s...   2006-10-30   \n",
      "32537  Murders, crimes, laughter, psychics, superhero...   2022-07-22   \n",
      "32538                                                NaN   2022-12-15   \n",
      "32539                                                NaN   2020-12-06   \n",
      "\n",
      "                            poster_path  popularity  vote_count  vote_average  \\\n",
      "0      /pHkKbIRoCe7zIFvqan9LFSaQAde.jpg    5088.584         902           6.9   \n",
      "1      /xIGr7UHsKf0URWmyyd5qFMAq4d8.jpg    2172.338         584           7.1   \n",
      "2      /hiaeZKzwsk4y4atFhmncO5KRxeT.jpg    1863.628         114           6.8   \n",
      "3      /lr11mCT85T1JanlgjMuhs9nMht4.jpg    1071.398        2736           7.9   \n",
      "4      /dgDT3uol3mdvwEg0jt1ble3l9hw.jpg    1020.995          83           7.0   \n",
      "...                                 ...         ...         ...           ...   \n",
      "32535  /4LHrYpe6bjiT8Wvkzl3269LIUZl.jpg       0.600           0           0.0   \n",
      "32536  /j1vWwxnTsoKjZFwJODiNHNS8GFK.jpg       0.600           0           0.0   \n",
      "32537  /ngFyxdliPZrG3Qra7tW3LbWksFd.jpg       0.600           0           0.0   \n",
      "32538                               NaN       0.000           0           0.0   \n",
      "32539  /5GTTNqHwXfqqnBPrZAv0DVoWfjr.jpg       0.000           0           0.0   \n",
      "\n",
      "         budget    revenue  runtime           status  adult  \\\n",
      "0             0    9572765       99         Released  False   \n",
      "1             0   56000000       93         Released  False   \n",
      "2      17000000   45000000      115         Released  False   \n",
      "3      18800000  161000000      103         Released  False   \n",
      "4             0          0        0         Released  False   \n",
      "...         ...        ...      ...              ...    ...   \n",
      "32535         0          0       11         Released  False   \n",
      "32536         0          0       92         Released  False   \n",
      "32537         0          0      141         Released  False   \n",
      "32538         0          0        0  Post Production  False   \n",
      "32539         0          0        0         Released  False   \n",
      "\n",
      "                          backdrop_path                genre_names  \\\n",
      "0      /5GA3vV1aWWHTSDO5eno8V5zDo8r.jpg           Horror, Thriller   \n",
      "1      /2k9tBql5GYH328Krj66tDT9LtFZ.jpg   Adventure, Drama, Horror   \n",
      "2      /mVNPfpydornVe4H4UCIk7WevWjf.jpg  Horror, Mystery, Thriller   \n",
      "3      /AfvIjhDu9p64jKcmohS4hsPG95Q.jpg           Horror, Thriller   \n",
      "4      /ojfzhdwRemcDt1I6pao6vVLw9AA.jpg                     Horror   \n",
      "...                                 ...                        ...   \n",
      "32535                               NaN                     Horror   \n",
      "32536                               NaN            Fantasy, Horror   \n",
      "32537  /s8Kpai084gCgQlsT3bpaEYuJmDc.jpg      Comedy, Drama, Horror   \n",
      "32538                               NaN                     Horror   \n",
      "32539                               NaN          Animation, Horror   \n",
      "\n",
      "       collection    collection_name  \n",
      "0        760193.0  Orphan Collection  \n",
      "1             NaN                NaN  \n",
      "2             NaN                NaN  \n",
      "3             NaN                NaN  \n",
      "4             NaN                NaN  \n",
      "...           ...                ...  \n",
      "32535         NaN                NaN  \n",
      "32536         NaN                NaN  \n",
      "32537         NaN                NaN  \n",
      "32538         NaN                NaN  \n",
      "32539         NaN                NaN  \n",
      "\n",
      "[32540 rows x 20 columns]\n"
     ]
    }
   ],
   "source": [
    "print(horror_df)"
   ]
  },
  {
   "cell_type": "markdown",
   "id": "440f4bdd-1de8-4f53-b4bc-dbd38c47ccd9",
   "metadata": {},
   "source": [
    "## Description"
   ]
  },
  {
   "cell_type": "code",
   "execution_count": 9,
   "id": "41a061a5-546e-4c3c-9016-206a5c99f378",
   "metadata": {
    "tags": []
   },
   "outputs": [
    {
     "data": {
      "text/plain": [
       "(32540, 20)"
      ]
     },
     "execution_count": 9,
     "metadata": {},
     "output_type": "execute_result"
    }
   ],
   "source": [
    "horror_df.shape"
   ]
  },
  {
   "cell_type": "code",
   "execution_count": 11,
   "id": "5eccf168-a006-4581-8400-3388ad9d7755",
   "metadata": {
    "tags": []
   },
   "outputs": [
    {
     "data": {
      "text/plain": [
       "Index(['id', 'original_title', 'title', 'original_language', 'overview',\n",
       "       'tagline', 'release_date', 'poster_path', 'popularity', 'vote_count',\n",
       "       'vote_average', 'budget', 'revenue', 'runtime', 'status', 'adult',\n",
       "       'backdrop_path', 'genre_names', 'collection', 'collection_name'],\n",
       "      dtype='object')"
      ]
     },
     "execution_count": 11,
     "metadata": {},
     "output_type": "execute_result"
    }
   ],
   "source": [
    "horror_df.columns"
   ]
  },
  {
   "cell_type": "code",
   "execution_count": 16,
   "id": "db2b875d-77d8-4dc1-a54c-739e7fb9bacb",
   "metadata": {
    "tags": []
   },
   "outputs": [
    {
     "name": "stdout",
     "output_type": "stream",
     "text": [
      "<class 'pandas.core.frame.DataFrame'>\n",
      "RangeIndex: 32540 entries, 0 to 32539\n",
      "Data columns (total 20 columns):\n",
      " #   Column             Non-Null Count  Dtype  \n",
      "---  ------             --------------  -----  \n",
      " 0   id                 32540 non-null  int64  \n",
      " 1   original_title     32540 non-null  object \n",
      " 2   title              32540 non-null  object \n",
      " 3   original_language  32540 non-null  object \n",
      " 4   overview           31254 non-null  object \n",
      " 5   tagline            12707 non-null  object \n",
      " 6   release_date       32540 non-null  object \n",
      " 7   poster_path        28066 non-null  object \n",
      " 8   popularity         32540 non-null  float64\n",
      " 9   vote_count         32540 non-null  int64  \n",
      " 10  vote_average       32540 non-null  float64\n",
      " 11  budget             32540 non-null  int64  \n",
      " 12  revenue            32540 non-null  int64  \n",
      " 13  runtime            32540 non-null  int64  \n",
      " 14  status             32540 non-null  object \n",
      " 15  adult              32540 non-null  bool   \n",
      " 16  backdrop_path      13545 non-null  object \n",
      " 17  genre_names        32540 non-null  object \n",
      " 18  collection         2306 non-null   float64\n",
      " 19  collection_name    2306 non-null   object \n",
      "dtypes: bool(1), float64(3), int64(5), object(11)\n",
      "memory usage: 4.7+ MB\n"
     ]
    }
   ],
   "source": [
    "horror_df.info()"
   ]
  },
  {
   "cell_type": "code",
   "execution_count": 13,
   "id": "7046f0ed-8328-49e4-9c73-508f2f9396b2",
   "metadata": {
    "tags": []
   },
   "outputs": [
    {
     "data": {
      "text/html": [
       "<div>\n",
       "<style scoped>\n",
       "    .dataframe tbody tr th:only-of-type {\n",
       "        vertical-align: middle;\n",
       "    }\n",
       "\n",
       "    .dataframe tbody tr th {\n",
       "        vertical-align: top;\n",
       "    }\n",
       "\n",
       "    .dataframe thead th {\n",
       "        text-align: right;\n",
       "    }\n",
       "</style>\n",
       "<table border=\"1\" class=\"dataframe\">\n",
       "  <thead>\n",
       "    <tr style=\"text-align: right;\">\n",
       "      <th></th>\n",
       "      <th>id</th>\n",
       "      <th>popularity</th>\n",
       "      <th>vote_count</th>\n",
       "      <th>vote_average</th>\n",
       "      <th>budget</th>\n",
       "      <th>revenue</th>\n",
       "      <th>runtime</th>\n",
       "      <th>collection</th>\n",
       "    </tr>\n",
       "  </thead>\n",
       "  <tbody>\n",
       "    <tr>\n",
       "      <th>count</th>\n",
       "      <td>3.254000e+04</td>\n",
       "      <td>32540.000000</td>\n",
       "      <td>32540.000000</td>\n",
       "      <td>32540.000000</td>\n",
       "      <td>3.254000e+04</td>\n",
       "      <td>3.254000e+04</td>\n",
       "      <td>32540.000000</td>\n",
       "      <td>2.306000e+03</td>\n",
       "    </tr>\n",
       "    <tr>\n",
       "      <th>mean</th>\n",
       "      <td>4.459108e+05</td>\n",
       "      <td>4.013456</td>\n",
       "      <td>62.691487</td>\n",
       "      <td>3.335728</td>\n",
       "      <td>5.431266e+05</td>\n",
       "      <td>1.349747e+06</td>\n",
       "      <td>62.142901</td>\n",
       "      <td>4.815349e+05</td>\n",
       "    </tr>\n",
       "    <tr>\n",
       "      <th>std</th>\n",
       "      <td>3.057447e+05</td>\n",
       "      <td>37.513472</td>\n",
       "      <td>420.887474</td>\n",
       "      <td>2.876002</td>\n",
       "      <td>4.542668e+06</td>\n",
       "      <td>1.443048e+07</td>\n",
       "      <td>40.998527</td>\n",
       "      <td>3.244982e+05</td>\n",
       "    </tr>\n",
       "    <tr>\n",
       "      <th>min</th>\n",
       "      <td>1.700000e+01</td>\n",
       "      <td>0.000000</td>\n",
       "      <td>0.000000</td>\n",
       "      <td>0.000000</td>\n",
       "      <td>0.000000e+00</td>\n",
       "      <td>0.000000e+00</td>\n",
       "      <td>0.000000</td>\n",
       "      <td>6.560000e+02</td>\n",
       "    </tr>\n",
       "    <tr>\n",
       "      <th>25%</th>\n",
       "      <td>1.464948e+05</td>\n",
       "      <td>0.600000</td>\n",
       "      <td>0.000000</td>\n",
       "      <td>0.000000</td>\n",
       "      <td>0.000000e+00</td>\n",
       "      <td>0.000000e+00</td>\n",
       "      <td>14.000000</td>\n",
       "      <td>1.554210e+05</td>\n",
       "    </tr>\n",
       "    <tr>\n",
       "      <th>50%</th>\n",
       "      <td>4.265210e+05</td>\n",
       "      <td>0.840000</td>\n",
       "      <td>2.000000</td>\n",
       "      <td>4.000000</td>\n",
       "      <td>0.000000e+00</td>\n",
       "      <td>0.000000e+00</td>\n",
       "      <td>80.000000</td>\n",
       "      <td>4.712590e+05</td>\n",
       "    </tr>\n",
       "    <tr>\n",
       "      <th>75%</th>\n",
       "      <td>7.075340e+05</td>\n",
       "      <td>2.243250</td>\n",
       "      <td>11.000000</td>\n",
       "      <td>5.700000</td>\n",
       "      <td>0.000000e+00</td>\n",
       "      <td>0.000000e+00</td>\n",
       "      <td>91.000000</td>\n",
       "      <td>7.590672e+05</td>\n",
       "    </tr>\n",
       "    <tr>\n",
       "      <th>max</th>\n",
       "      <td>1.033095e+06</td>\n",
       "      <td>5088.584000</td>\n",
       "      <td>16900.000000</td>\n",
       "      <td>10.000000</td>\n",
       "      <td>2.000000e+08</td>\n",
       "      <td>7.018426e+08</td>\n",
       "      <td>683.000000</td>\n",
       "      <td>1.033032e+06</td>\n",
       "    </tr>\n",
       "  </tbody>\n",
       "</table>\n",
       "</div>"
      ],
      "text/plain": [
       "                 id    popularity    vote_count  vote_average        budget  \\\n",
       "count  3.254000e+04  32540.000000  32540.000000  32540.000000  3.254000e+04   \n",
       "mean   4.459108e+05      4.013456     62.691487      3.335728  5.431266e+05   \n",
       "std    3.057447e+05     37.513472    420.887474      2.876002  4.542668e+06   \n",
       "min    1.700000e+01      0.000000      0.000000      0.000000  0.000000e+00   \n",
       "25%    1.464948e+05      0.600000      0.000000      0.000000  0.000000e+00   \n",
       "50%    4.265210e+05      0.840000      2.000000      4.000000  0.000000e+00   \n",
       "75%    7.075340e+05      2.243250     11.000000      5.700000  0.000000e+00   \n",
       "max    1.033095e+06   5088.584000  16900.000000     10.000000  2.000000e+08   \n",
       "\n",
       "            revenue       runtime    collection  \n",
       "count  3.254000e+04  32540.000000  2.306000e+03  \n",
       "mean   1.349747e+06     62.142901  4.815349e+05  \n",
       "std    1.443048e+07     40.998527  3.244982e+05  \n",
       "min    0.000000e+00      0.000000  6.560000e+02  \n",
       "25%    0.000000e+00     14.000000  1.554210e+05  \n",
       "50%    0.000000e+00     80.000000  4.712590e+05  \n",
       "75%    0.000000e+00     91.000000  7.590672e+05  \n",
       "max    7.018426e+08    683.000000  1.033032e+06  "
      ]
     },
     "execution_count": 13,
     "metadata": {},
     "output_type": "execute_result"
    }
   ],
   "source": [
    "horror_df.describe()"
   ]
  },
  {
   "cell_type": "markdown",
   "id": "affe17bf-a11f-49d1-8dd4-7b1621c21dce",
   "metadata": {},
   "source": [
    "# Description of what the data contains\n",
    "\n"
   ]
  },
  {
   "cell_type": "markdown",
   "id": "4531f6d8-f222-467f-a317-295de15a3505",
   "metadata": {},
   "source": [
    "The dataset represents information about horror movies. Each entry is identified by a unique \"id\" and provides both the original title and potentially localized \"title\" of the movie. Information about the original language, a brief plot overview. Each movie has a release date, a link to its poster, a popularity score, and the number of votes it received along with the average rating. They also included financial information of the movies, like their budgets and revenues. Along with this they included the film's runtime, status, and whether it's intended for an adult audience. Each movie's genre is specified in the \"genre_names\" column, and for those films that belong to a series or collection, unique identifiers and collection names are also provided.\n",
    "\n",
    "This data can be used for seeing what movies have any common trends such as if more of a budget means a better movie. Also finding the best movie for an adults vs kids. Which movies are in a series and what ones arnt there are alot of differnt opportunitys to use this data for."
   ]
  },
  {
   "cell_type": "markdown",
   "id": "09a89a30-9a3a-40cb-b713-ac4d603086fb",
   "metadata": {
    "tags": []
   },
   "source": [
    "horror_df.describe()\n",
    "\n",
    "The dataset has 32,540 movies on average, movies have a popularity score of approximately 4.01 though with a high standard deviation of 37.51, which makes sense with some movies reaching popularity scores as high as 5,088.58. Most movies in the dataset dont have a specified budget or revenue, as seen by the median and 25th percentile values being 0 for both columns. Same with the runtime with movies range in length, from 0 minutes to 683 minutes, with a median runtime of 80 minutes. considering the budget and revenue along with the runtime all having alot of zeros it would be save to interprate that there might be a decent chunk of missing data from our dataset causing a very clear limitation. These arnt the values I was hoping for but still beleave I can use this data efficiently"
   ]
  },
  {
   "cell_type": "markdown",
   "id": "378167f8-cfcc-46e4-be8d-5f3357c89dc1",
   "metadata": {},
   "source": [
    " ## Which Movies are Most and Least Popular?"
   ]
  },
  {
   "cell_type": "code",
   "execution_count": null,
   "id": "8d16bddc-4140-4400-814f-4666fdc745f6",
   "metadata": {},
   "outputs": [],
   "source": []
  }
 ],
 "metadata": {
  "kernelspec": {
   "display_name": "Python 3 (ipykernel)",
   "language": "python",
   "name": "python3"
  },
  "language_info": {
   "codemirror_mode": {
    "name": "ipython",
    "version": 3
   },
   "file_extension": ".py",
   "mimetype": "text/x-python",
   "name": "python",
   "nbconvert_exporter": "python",
   "pygments_lexer": "ipython3",
   "version": "3.11.4"
  }
 },
 "nbformat": 4,
 "nbformat_minor": 5
}
