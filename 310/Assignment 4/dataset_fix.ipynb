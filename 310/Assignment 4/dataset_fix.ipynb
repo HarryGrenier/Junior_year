{
 "cells": [
  {
   "cell_type": "code",
   "execution_count": 1,
   "id": "5cfd7a7a-1726-49ed-a12e-a2e23148a6fb",
   "metadata": {
    "tags": []
   },
   "outputs": [],
   "source": [
    "import pandas as pd"
   ]
  },
  {
   "cell_type": "code",
   "execution_count": 2,
   "id": "6a84e6bb-d26e-4f14-a231-5dfdcc7091af",
   "metadata": {
    "tags": []
   },
   "outputs": [],
   "source": [
    "import seaborn as sns"
   ]
  },
  {
   "cell_type": "code",
   "execution_count": 3,
   "id": "fa4b9648-011a-4ff3-81a9-608c371a31fe",
   "metadata": {
    "tags": []
   },
   "outputs": [],
   "source": [
    "import numpy as np"
   ]
  },
  {
   "cell_type": "code",
   "execution_count": 4,
   "id": "4d732657-8eae-4345-a955-87c4fbf9eb9c",
   "metadata": {
    "tags": []
   },
   "outputs": [],
   "source": [
    "url = \"https://raw.githubusercontent.com/rfordatascience/tidytuesday/master/data/2020/2020-06-23/individuals.csv\""
   ]
  },
  {
   "cell_type": "code",
   "execution_count": 5,
   "id": "73af1370-ab5c-476b-a042-05221cd73b58",
   "metadata": {
    "tags": []
   },
   "outputs": [],
   "source": [
    "caribou_df = pd.read_csv(url)"
   ]
  },
  {
   "cell_type": "code",
   "execution_count": 6,
   "id": "50e23ebf-83b4-4d7e-92c2-f92046b224c4",
   "metadata": {},
   "outputs": [
    {
     "data": {
      "text/plain": [
       "(286, 14)"
      ]
     },
     "execution_count": 6,
     "metadata": {},
     "output_type": "execute_result"
    }
   ],
   "source": [
    "caribou_df.shape"
   ]
  },
  {
   "cell_type": "code",
   "execution_count": 7,
   "id": "bf37579e-36ad-4e16-abe7-2260d065a417",
   "metadata": {},
   "outputs": [
    {
     "name": "stdout",
     "output_type": "stream",
     "text": [
      "<class 'pandas.core.frame.DataFrame'>\n",
      "RangeIndex: 286 entries, 0 to 285\n",
      "Data columns (total 14 columns):\n",
      " #   Column                Non-Null Count  Dtype  \n",
      "---  ------                --------------  -----  \n",
      " 0   animal_id             286 non-null    object \n",
      " 1   sex                   286 non-null    object \n",
      " 2   life_stage            67 non-null     object \n",
      " 3   pregnant              19 non-null     object \n",
      " 4   with_calf             84 non-null     object \n",
      " 5   death_cause           54 non-null     object \n",
      " 6   study_site            286 non-null    object \n",
      " 7   deploy_on_longitude   153 non-null    float64\n",
      " 8   deploy_on_latitude    153 non-null    float64\n",
      " 9   deploy_on_comments    87 non-null     object \n",
      " 10  deploy_off_longitude  56 non-null     float64\n",
      " 11  deploy_off_latitude   56 non-null     float64\n",
      " 12  deploy_off_type       286 non-null    object \n",
      " 13  deploy_off_comments   56 non-null     object \n",
      "dtypes: float64(4), object(10)\n",
      "memory usage: 31.4+ KB\n"
     ]
    }
   ],
   "source": [
    "caribou_df.info()"
   ]
  },
  {
   "cell_type": "code",
   "execution_count": 8,
   "id": "6048952c-5718-459f-b596-f61ee742c1fd",
   "metadata": {
    "tags": []
   },
   "outputs": [],
   "source": [
    "n_rows, n_cols = caribou_df.shape"
   ]
  },
  {
   "cell_type": "code",
   "execution_count": 14,
   "id": "5244a225-a53d-4744-9163-45b8c9807ef4",
   "metadata": {
    "tags": []
   },
   "outputs": [],
   "source": [
    "caribou_df = caribou_df.dropna(thresh=.50*n_rows, axis=1)"
   ]
  },
  {
   "cell_type": "code",
   "execution_count": 15,
   "id": "737aa61e-a3b0-47c2-b3a9-ccc9e8d0e650",
   "metadata": {
    "tags": []
   },
   "outputs": [
    {
     "data": {
      "text/html": [
       "<div>\n",
       "<style scoped>\n",
       "    .dataframe tbody tr th:only-of-type {\n",
       "        vertical-align: middle;\n",
       "    }\n",
       "\n",
       "    .dataframe tbody tr th {\n",
       "        vertical-align: top;\n",
       "    }\n",
       "\n",
       "    .dataframe thead th {\n",
       "        text-align: right;\n",
       "    }\n",
       "</style>\n",
       "<table border=\"1\" class=\"dataframe\">\n",
       "  <thead>\n",
       "    <tr style=\"text-align: right;\">\n",
       "      <th></th>\n",
       "      <th>animal_id</th>\n",
       "      <th>sex</th>\n",
       "      <th>study_site</th>\n",
       "      <th>deploy_on_longitude</th>\n",
       "      <th>deploy_on_latitude</th>\n",
       "      <th>deploy_off_type</th>\n",
       "    </tr>\n",
       "  </thead>\n",
       "  <tbody>\n",
       "    <tr>\n",
       "      <th>0</th>\n",
       "      <td>HR_151.510</td>\n",
       "      <td>f</td>\n",
       "      <td>Hart Ranges</td>\n",
       "      <td>NaN</td>\n",
       "      <td>NaN</td>\n",
       "      <td>unknown</td>\n",
       "    </tr>\n",
       "    <tr>\n",
       "      <th>1</th>\n",
       "      <td>GR_C04</td>\n",
       "      <td>f</td>\n",
       "      <td>Graham</td>\n",
       "      <td>NaN</td>\n",
       "      <td>NaN</td>\n",
       "      <td>unknown</td>\n",
       "    </tr>\n",
       "    <tr>\n",
       "      <th>2</th>\n",
       "      <td>GR_C03</td>\n",
       "      <td>f</td>\n",
       "      <td>Graham</td>\n",
       "      <td>NaN</td>\n",
       "      <td>NaN</td>\n",
       "      <td>unknown</td>\n",
       "    </tr>\n",
       "    <tr>\n",
       "      <th>3</th>\n",
       "      <td>HR_151.805</td>\n",
       "      <td>f</td>\n",
       "      <td>Hart Ranges</td>\n",
       "      <td>NaN</td>\n",
       "      <td>NaN</td>\n",
       "      <td>unknown</td>\n",
       "    </tr>\n",
       "    <tr>\n",
       "      <th>4</th>\n",
       "      <td>HR_151.760</td>\n",
       "      <td>f</td>\n",
       "      <td>Hart Ranges</td>\n",
       "      <td>NaN</td>\n",
       "      <td>NaN</td>\n",
       "      <td>unknown</td>\n",
       "    </tr>\n",
       "    <tr>\n",
       "      <th>...</th>\n",
       "      <td>...</td>\n",
       "      <td>...</td>\n",
       "      <td>...</td>\n",
       "      <td>...</td>\n",
       "      <td>...</td>\n",
       "      <td>...</td>\n",
       "    </tr>\n",
       "    <tr>\n",
       "      <th>281</th>\n",
       "      <td>QU_car195</td>\n",
       "      <td>f</td>\n",
       "      <td>Quintette</td>\n",
       "      <td>NaN</td>\n",
       "      <td>NaN</td>\n",
       "      <td>other</td>\n",
       "    </tr>\n",
       "    <tr>\n",
       "      <th>282</th>\n",
       "      <td>QU_car196</td>\n",
       "      <td>f</td>\n",
       "      <td>Quintette</td>\n",
       "      <td>NaN</td>\n",
       "      <td>NaN</td>\n",
       "      <td>other</td>\n",
       "    </tr>\n",
       "    <tr>\n",
       "      <th>283</th>\n",
       "      <td>KE_car199</td>\n",
       "      <td>f</td>\n",
       "      <td>Kennedy</td>\n",
       "      <td>NaN</td>\n",
       "      <td>NaN</td>\n",
       "      <td>unknown</td>\n",
       "    </tr>\n",
       "    <tr>\n",
       "      <th>284</th>\n",
       "      <td>KE_car200</td>\n",
       "      <td>f</td>\n",
       "      <td>Kennedy</td>\n",
       "      <td>NaN</td>\n",
       "      <td>NaN</td>\n",
       "      <td>unknown</td>\n",
       "    </tr>\n",
       "    <tr>\n",
       "      <th>285</th>\n",
       "      <td>KE_car198</td>\n",
       "      <td>f</td>\n",
       "      <td>Kennedy</td>\n",
       "      <td>NaN</td>\n",
       "      <td>NaN</td>\n",
       "      <td>unknown</td>\n",
       "    </tr>\n",
       "  </tbody>\n",
       "</table>\n",
       "<p>286 rows × 6 columns</p>\n",
       "</div>"
      ],
      "text/plain": [
       "      animal_id sex   study_site  deploy_on_longitude  deploy_on_latitude  \\\n",
       "0    HR_151.510   f  Hart Ranges                  NaN                 NaN   \n",
       "1        GR_C04   f       Graham                  NaN                 NaN   \n",
       "2        GR_C03   f       Graham                  NaN                 NaN   \n",
       "3    HR_151.805   f  Hart Ranges                  NaN                 NaN   \n",
       "4    HR_151.760   f  Hart Ranges                  NaN                 NaN   \n",
       "..          ...  ..          ...                  ...                 ...   \n",
       "281   QU_car195   f    Quintette                  NaN                 NaN   \n",
       "282   QU_car196   f    Quintette                  NaN                 NaN   \n",
       "283   KE_car199   f      Kennedy                  NaN                 NaN   \n",
       "284   KE_car200   f      Kennedy                  NaN                 NaN   \n",
       "285   KE_car198   f      Kennedy                  NaN                 NaN   \n",
       "\n",
       "    deploy_off_type  \n",
       "0           unknown  \n",
       "1           unknown  \n",
       "2           unknown  \n",
       "3           unknown  \n",
       "4           unknown  \n",
       "..              ...  \n",
       "281           other  \n",
       "282           other  \n",
       "283         unknown  \n",
       "284         unknown  \n",
       "285         unknown  \n",
       "\n",
       "[286 rows x 6 columns]"
      ]
     },
     "execution_count": 15,
     "metadata": {},
     "output_type": "execute_result"
    }
   ],
   "source": [
    "caribou_df"
   ]
  },
  {
   "cell_type": "code",
   "execution_count": 18,
   "id": "65fc8084-cf3b-4521-a22f-f2c6b9fea0d1",
   "metadata": {
    "tags": []
   },
   "outputs": [],
   "source": [
    "filtered_rows = caribou_df[caribou_df[\"study_site\"] == 'Quintette']"
   ]
  },
  {
   "cell_type": "code",
   "execution_count": 19,
   "id": "c79e7914-fa64-4b9a-97c5-791733fd3d0d",
   "metadata": {
    "tags": []
   },
   "outputs": [
    {
     "data": {
      "text/html": [
       "<div>\n",
       "<style scoped>\n",
       "    .dataframe tbody tr th:only-of-type {\n",
       "        vertical-align: middle;\n",
       "    }\n",
       "\n",
       "    .dataframe tbody tr th {\n",
       "        vertical-align: top;\n",
       "    }\n",
       "\n",
       "    .dataframe thead th {\n",
       "        text-align: right;\n",
       "    }\n",
       "</style>\n",
       "<table border=\"1\" class=\"dataframe\">\n",
       "  <thead>\n",
       "    <tr style=\"text-align: right;\">\n",
       "      <th></th>\n",
       "      <th>animal_id</th>\n",
       "      <th>sex</th>\n",
       "      <th>study_site</th>\n",
       "      <th>deploy_on_longitude</th>\n",
       "      <th>deploy_on_latitude</th>\n",
       "      <th>deploy_off_type</th>\n",
       "    </tr>\n",
       "  </thead>\n",
       "  <tbody>\n",
       "    <tr>\n",
       "      <th>106</th>\n",
       "      <td>QU_car008</td>\n",
       "      <td>f</td>\n",
       "      <td>Quintette</td>\n",
       "      <td>-121.375940</td>\n",
       "      <td>54.955083</td>\n",
       "      <td>dead</td>\n",
       "    </tr>\n",
       "    <tr>\n",
       "      <th>107</th>\n",
       "      <td>QU_car007</td>\n",
       "      <td>f</td>\n",
       "      <td>Quintette</td>\n",
       "      <td>-121.514440</td>\n",
       "      <td>55.010779</td>\n",
       "      <td>other</td>\n",
       "    </tr>\n",
       "    <tr>\n",
       "      <th>111</th>\n",
       "      <td>QU_car014</td>\n",
       "      <td>f</td>\n",
       "      <td>Quintette</td>\n",
       "      <td>-121.007788</td>\n",
       "      <td>54.934704</td>\n",
       "      <td>removal</td>\n",
       "    </tr>\n",
       "    <tr>\n",
       "      <th>112</th>\n",
       "      <td>QU_car012</td>\n",
       "      <td>f</td>\n",
       "      <td>Quintette</td>\n",
       "      <td>-121.497521</td>\n",
       "      <td>55.086803</td>\n",
       "      <td>removal</td>\n",
       "    </tr>\n",
       "    <tr>\n",
       "      <th>113</th>\n",
       "      <td>QU_car013</td>\n",
       "      <td>f</td>\n",
       "      <td>Quintette</td>\n",
       "      <td>-121.135448</td>\n",
       "      <td>54.991737</td>\n",
       "      <td>other</td>\n",
       "    </tr>\n",
       "    <tr>\n",
       "      <th>...</th>\n",
       "      <td>...</td>\n",
       "      <td>...</td>\n",
       "      <td>...</td>\n",
       "      <td>...</td>\n",
       "      <td>...</td>\n",
       "      <td>...</td>\n",
       "    </tr>\n",
       "    <tr>\n",
       "      <th>278</th>\n",
       "      <td>QU_car172</td>\n",
       "      <td>f</td>\n",
       "      <td>Quintette</td>\n",
       "      <td>NaN</td>\n",
       "      <td>NaN</td>\n",
       "      <td>other</td>\n",
       "    </tr>\n",
       "    <tr>\n",
       "      <th>279</th>\n",
       "      <td>QU_car194</td>\n",
       "      <td>f</td>\n",
       "      <td>Quintette</td>\n",
       "      <td>NaN</td>\n",
       "      <td>NaN</td>\n",
       "      <td>other</td>\n",
       "    </tr>\n",
       "    <tr>\n",
       "      <th>280</th>\n",
       "      <td>QU_car197</td>\n",
       "      <td>f</td>\n",
       "      <td>Quintette</td>\n",
       "      <td>NaN</td>\n",
       "      <td>NaN</td>\n",
       "      <td>other</td>\n",
       "    </tr>\n",
       "    <tr>\n",
       "      <th>281</th>\n",
       "      <td>QU_car195</td>\n",
       "      <td>f</td>\n",
       "      <td>Quintette</td>\n",
       "      <td>NaN</td>\n",
       "      <td>NaN</td>\n",
       "      <td>other</td>\n",
       "    </tr>\n",
       "    <tr>\n",
       "      <th>282</th>\n",
       "      <td>QU_car196</td>\n",
       "      <td>f</td>\n",
       "      <td>Quintette</td>\n",
       "      <td>NaN</td>\n",
       "      <td>NaN</td>\n",
       "      <td>other</td>\n",
       "    </tr>\n",
       "  </tbody>\n",
       "</table>\n",
       "<p>77 rows × 6 columns</p>\n",
       "</div>"
      ],
      "text/plain": [
       "     animal_id sex study_site  deploy_on_longitude  deploy_on_latitude  \\\n",
       "106  QU_car008   f  Quintette          -121.375940           54.955083   \n",
       "107  QU_car007   f  Quintette          -121.514440           55.010779   \n",
       "111  QU_car014   f  Quintette          -121.007788           54.934704   \n",
       "112  QU_car012   f  Quintette          -121.497521           55.086803   \n",
       "113  QU_car013   f  Quintette          -121.135448           54.991737   \n",
       "..         ...  ..        ...                  ...                 ...   \n",
       "278  QU_car172   f  Quintette                  NaN                 NaN   \n",
       "279  QU_car194   f  Quintette                  NaN                 NaN   \n",
       "280  QU_car197   f  Quintette                  NaN                 NaN   \n",
       "281  QU_car195   f  Quintette                  NaN                 NaN   \n",
       "282  QU_car196   f  Quintette                  NaN                 NaN   \n",
       "\n",
       "    deploy_off_type  \n",
       "106            dead  \n",
       "107           other  \n",
       "111         removal  \n",
       "112         removal  \n",
       "113           other  \n",
       "..              ...  \n",
       "278           other  \n",
       "279           other  \n",
       "280           other  \n",
       "281           other  \n",
       "282           other  \n",
       "\n",
       "[77 rows x 6 columns]"
      ]
     },
     "execution_count": 19,
     "metadata": {},
     "output_type": "execute_result"
    }
   ],
   "source": [
    "filtered_rows"
   ]
  },
  {
   "cell_type": "code",
   "execution_count": 23,
   "id": "7e780346-4e87-4e7d-9819-71165a8ecb1b",
   "metadata": {
    "tags": []
   },
   "outputs": [],
   "source": [
    "averages = caribou_df.groupby('study_site')[['deploy_on_longitude', 'deploy_on_latitude']].mean()"
   ]
  },
  {
   "cell_type": "code",
   "execution_count": 24,
   "id": "ab6c5fb7-0d0d-4b03-b10e-f1b4570bdd66",
   "metadata": {
    "tags": []
   },
   "outputs": [
    {
     "data": {
      "text/html": [
       "<div>\n",
       "<style scoped>\n",
       "    .dataframe tbody tr th:only-of-type {\n",
       "        vertical-align: middle;\n",
       "    }\n",
       "\n",
       "    .dataframe tbody tr th {\n",
       "        vertical-align: top;\n",
       "    }\n",
       "\n",
       "    .dataframe thead th {\n",
       "        text-align: right;\n",
       "    }\n",
       "</style>\n",
       "<table border=\"1\" class=\"dataframe\">\n",
       "  <thead>\n",
       "    <tr style=\"text-align: right;\">\n",
       "      <th></th>\n",
       "      <th>deploy_on_longitude</th>\n",
       "      <th>deploy_on_latitude</th>\n",
       "    </tr>\n",
       "    <tr>\n",
       "      <th>study_site</th>\n",
       "      <th></th>\n",
       "      <th></th>\n",
       "    </tr>\n",
       "  </thead>\n",
       "  <tbody>\n",
       "    <tr>\n",
       "      <th>Burnt Pine</th>\n",
       "      <td>-122.245822</td>\n",
       "      <td>55.393840</td>\n",
       "    </tr>\n",
       "    <tr>\n",
       "      <th>Graham</th>\n",
       "      <td>NaN</td>\n",
       "      <td>NaN</td>\n",
       "    </tr>\n",
       "    <tr>\n",
       "      <th>Hart Ranges</th>\n",
       "      <td>-122.115012</td>\n",
       "      <td>54.812317</td>\n",
       "    </tr>\n",
       "    <tr>\n",
       "      <th>Kennedy</th>\n",
       "      <td>-122.610095</td>\n",
       "      <td>55.220621</td>\n",
       "    </tr>\n",
       "    <tr>\n",
       "      <th>Moberly</th>\n",
       "      <td>-122.550542</td>\n",
       "      <td>55.773036</td>\n",
       "    </tr>\n",
       "    <tr>\n",
       "      <th>Narraway</th>\n",
       "      <td>-120.414843</td>\n",
       "      <td>55.063735</td>\n",
       "    </tr>\n",
       "    <tr>\n",
       "      <th>Quintette</th>\n",
       "      <td>-121.248854</td>\n",
       "      <td>54.558524</td>\n",
       "    </tr>\n",
       "    <tr>\n",
       "      <th>Scott</th>\n",
       "      <td>-123.351862</td>\n",
       "      <td>55.862879</td>\n",
       "    </tr>\n",
       "  </tbody>\n",
       "</table>\n",
       "</div>"
      ],
      "text/plain": [
       "             deploy_on_longitude  deploy_on_latitude\n",
       "study_site                                          \n",
       "Burnt Pine           -122.245822           55.393840\n",
       "Graham                       NaN                 NaN\n",
       "Hart Ranges          -122.115012           54.812317\n",
       "Kennedy              -122.610095           55.220621\n",
       "Moberly              -122.550542           55.773036\n",
       "Narraway             -120.414843           55.063735\n",
       "Quintette            -121.248854           54.558524\n",
       "Scott                -123.351862           55.862879"
      ]
     },
     "execution_count": 24,
     "metadata": {},
     "output_type": "execute_result"
    }
   ],
   "source": [
    "averages"
   ]
  },
  {
   "cell_type": "code",
   "execution_count": 28,
   "id": "2565d3c6-0144-449e-9922-cabbdb3e77c8",
   "metadata": {
    "tags": []
   },
   "outputs": [],
   "source": [
    "averages = averages.rename(columns={\n",
    "    'deploy_on_longitude': 'avg_longitude',\n",
    "    'deploy_on_latitude': 'avg_latitude'\n",
    "})"
   ]
  },
  {
   "cell_type": "code",
   "execution_count": 30,
   "id": "cd69d3cb-dd1b-412e-bee7-d69ed7909594",
   "metadata": {
    "tags": []
   },
   "outputs": [],
   "source": [
    "caribou_df = caribou_df.merge(averages, on='study_site', how='left')"
   ]
  },
  {
   "cell_type": "code",
   "execution_count": 31,
   "id": "5dd8f200-6e1a-4f98-a887-41541c68b14c",
   "metadata": {
    "tags": []
   },
   "outputs": [],
   "source": [
    "caribou_df['deploy_on_longitude'].fillna(caribou_df['avg_longitude'], inplace=True)\n",
    "caribou_df['deploy_on_latitude'].fillna(caribou_df['avg_latitude'], inplace=True)"
   ]
  },
  {
   "cell_type": "code",
   "execution_count": 33,
   "id": "8ab2cf1a-adb2-4def-a3ff-76b7923e1e44",
   "metadata": {
    "tags": []
   },
   "outputs": [],
   "source": [
    "caribou_df.drop(['avg_longitude', 'avg_latitude'], axis=1, inplace=True)"
   ]
  },
  {
   "cell_type": "code",
   "execution_count": 36,
   "id": "04800bb3-90b3-4da6-a33f-f0fce34c6770",
   "metadata": {
    "tags": []
   },
   "outputs": [
    {
     "data": {
      "text/html": [
       "<div>\n",
       "<style scoped>\n",
       "    .dataframe tbody tr th:only-of-type {\n",
       "        vertical-align: middle;\n",
       "    }\n",
       "\n",
       "    .dataframe tbody tr th {\n",
       "        vertical-align: top;\n",
       "    }\n",
       "\n",
       "    .dataframe thead th {\n",
       "        text-align: right;\n",
       "    }\n",
       "</style>\n",
       "<table border=\"1\" class=\"dataframe\">\n",
       "  <thead>\n",
       "    <tr style=\"text-align: right;\">\n",
       "      <th></th>\n",
       "      <th>deploy_on_longitude</th>\n",
       "      <th>deploy_on_latitude</th>\n",
       "    </tr>\n",
       "  </thead>\n",
       "  <tbody>\n",
       "    <tr>\n",
       "      <th>count</th>\n",
       "      <td>231.000000</td>\n",
       "      <td>231.000000</td>\n",
       "    </tr>\n",
       "    <tr>\n",
       "      <th>mean</th>\n",
       "      <td>-121.922811</td>\n",
       "      <td>54.979906</td>\n",
       "    </tr>\n",
       "    <tr>\n",
       "      <th>std</th>\n",
       "      <td>0.701999</td>\n",
       "      <td>1.806774</td>\n",
       "    </tr>\n",
       "    <tr>\n",
       "      <th>min</th>\n",
       "      <td>-123.355710</td>\n",
       "      <td>28.134321</td>\n",
       "    </tr>\n",
       "    <tr>\n",
       "      <th>25%</th>\n",
       "      <td>-122.551687</td>\n",
       "      <td>54.812317</td>\n",
       "    </tr>\n",
       "    <tr>\n",
       "      <th>50%</th>\n",
       "      <td>-122.115012</td>\n",
       "      <td>55.094785</td>\n",
       "    </tr>\n",
       "    <tr>\n",
       "      <th>75%</th>\n",
       "      <td>-121.341075</td>\n",
       "      <td>55.220621</td>\n",
       "    </tr>\n",
       "    <tr>\n",
       "      <th>max</th>\n",
       "      <td>-120.215852</td>\n",
       "      <td>55.993975</td>\n",
       "    </tr>\n",
       "  </tbody>\n",
       "</table>\n",
       "</div>"
      ],
      "text/plain": [
       "       deploy_on_longitude  deploy_on_latitude\n",
       "count           231.000000          231.000000\n",
       "mean           -121.922811           54.979906\n",
       "std               0.701999            1.806774\n",
       "min            -123.355710           28.134321\n",
       "25%            -122.551687           54.812317\n",
       "50%            -122.115012           55.094785\n",
       "75%            -121.341075           55.220621\n",
       "max            -120.215852           55.993975"
      ]
     },
     "execution_count": 36,
     "metadata": {},
     "output_type": "execute_result"
    }
   ],
   "source": [
    "caribou_df.describe()"
   ]
  },
  {
   "cell_type": "code",
   "execution_count": 37,
   "id": "786f44ad-6e9a-4869-9fed-0439de482ecf",
   "metadata": {
    "tags": []
   },
   "outputs": [
    {
     "data": {
      "text/plain": [
       "<Axes: xlabel='deploy_on_longitude', ylabel='deploy_on_latitude'>"
      ]
     },
     "execution_count": 37,
     "metadata": {},
     "output_type": "execute_result"
    },
    {
     "data": {
      "image/png": "[encoded data removed]",
      "text/plain": [
       "<Figure size 640x480 with 1 Axes>"
      ]
     },
     "metadata": {},
     "output_type": "display_data"
    }
   ],
   "source": [
    "sns.scatterplot(x='deploy_on_longitude', y='deploy_on_latitude', data=caribou_df, hue='study_site', alpha=0.5, palette='viridis')"
   ]
  },
  {
   "cell_type": "markdown",
   "id": "1a296191-2fd5-4494-add5-eca1d2814ff0",
   "metadata": {},
   "source": [
    "You can now see that at the study sites tend to stick around the same location now this is due to getting the relative area of where these sites were and modifying it so that the longitude and latidude fit in this region allowing for more consistant data across each caribou and the location it was located."
   ]
  },
  {
   "cell_type": "markdown",
   "id": "d5f46d9e-a098-4293-85bd-19a9fdc6c8ff",
   "metadata": {},
   "source": [
    "summary:\n",
    "\n",
    "With this clean data its much easier to pick out the essental data this consisting of the latitude longitude giving us a relative location for the caribou. Along with the name given to each of them when tagged this allows for us to have a unique value for each caribou. They also included the sex and study site so we can get the categorize them together easier. Then lastly the deploy off type to see if they are still being tracked and if not what the reasoning wither it be death, removal, other which is specified."
   ]
  },
  {
   "cell_type": "code",
   "execution_count": null,
   "id": "7e5f0365-a819-49f7-89aa-329ff6b1eb46",
   "metadata": {},
   "outputs": [],
   "source": []
  }
 ],
 "metadata": {
  "kernelspec": {
   "display_name": "Python 3 (ipykernel)",
   "language": "python",
   "name": "python3"
  },
  "language_info": {
   "codemirror_mode": {
    "name": "ipython",
    "version": 3
   },
   "file_extension": ".py",
   "mimetype": "text/x-python",
   "name": "python",
   "nbconvert_exporter": "python",
   "pygments_lexer": "ipython3",
   "version": "3.11.4"
  }
 },
 "nbformat": 4,
 "nbformat_minor": 5
}
