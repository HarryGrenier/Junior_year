{
 "cells": [
  {
   "cell_type": "code",
   "execution_count": 7,
   "id": "73537455-3535-44c9-aaea-db046ee4d9ce",
   "metadata": {
    "tags": []
   },
   "outputs": [],
   "source": [
    "import pandas as pd\n",
    "import seaborn as sns\n",
    "import numpy as np\n",
    "\n",
    "sns.set_theme(palette= \"colorblind\")\n",
    "# toy data set\n",
    "na_toy_df = pd.DataFrame(data = [[1,3,4,5],[2 ,6, pd.NA,3]])\n",
    "\n",
    "# coffee data\n",
    "arabica_data_url = 'https://raw.githubusercontent.com/jldbc/coffee-quality-database/master/data/arabica_data_cleaned.csv'\n",
    "\n",
    "coffee_df = pd.read_csv(arabica_data_url,index_col=0)\n",
    "\n",
    "# github api data\n",
    "rhodyprog4ds_gh_events_url = 'https://api.github.com/orgs/rhodyprog4ds/events'\n",
    "course_gh_df = pd.read_json(rhodyprog4ds_gh_events_url)\n",
    "\n",
    "# make plots look nicer and increase font size\n",
    "sns.set_theme(font_scale=2,palette='colorblind')"
   ]
  },
  {
   "cell_type": "code",
   "execution_count": 8,
   "id": "37eb1739-bc5f-4aeb-b76d-ab0a9cdf32f3",
   "metadata": {
    "tags": []
   },
   "outputs": [
    {
     "data": {
      "text/plain": [
       "1                             18\n",
       "020/17                         6\n",
       "019/17                         5\n",
       "2                              3\n",
       "102                            3\n",
       "                              ..\n",
       "11/23/0696                     1\n",
       "3-59-2318                      1\n",
       "8885                           1\n",
       "5055                           1\n",
       "017-053-0211/ 017-053-0212     1\n",
       "Name: Lot.Number, Length: 221, dtype: int64"
      ]
     },
     "execution_count": 8,
     "metadata": {},
     "output_type": "execute_result"
    }
   ],
   "source": [
    "coffee_df['Lot.Number'].value_counts()"
   ]
  },
  {
   "cell_type": "code",
   "execution_count": 10,
   "id": "2eaa1673-6324-401e-9ca9-51d1a7df8f85",
   "metadata": {},
   "outputs": [
    {
     "data": {
      "text/plain": [
       "Specialty Coffee Association                                                             295\n",
       "AMECAFE                                                                                  205\n",
       "Almacafé                                                                                 178\n",
       "Asociacion Nacional Del Café                                                             155\n",
       "Brazil Specialty Coffee Association                                                       67\n",
       "Instituto Hondureño del Café                                                              60\n",
       "Blossom Valley International                                                              58\n",
       "Africa Fine Coffee Association                                                            49\n",
       "Specialty Coffee Association of Costa Rica                                                42\n",
       "NUCOFFEE                                                                                  36\n",
       "Uganda Coffee Development Authority                                                       22\n",
       "Kenya Coffee Traders Association                                                          22\n",
       "Ethiopia Commodity Exchange                                                               18\n",
       "Specialty Coffee Institute of Asia                                                        16\n",
       "METAD Agricultural Development plc                                                        15\n",
       "Yunnan Coffee Exchange                                                                    12\n",
       "Salvadoran Coffee Council                                                                 11\n",
       "Specialty Coffee Association of Indonesia                                                 10\n",
       "Centro Agroecológico del Café A.C.                                                         8\n",
       "Asociación de Cafés Especiales de Nicaragua                                                8\n",
       "Coffee Quality Institute                                                                   7\n",
       "Asociación Mexicana De Cafés y Cafeterías De Especialidad A.C.                             6\n",
       "Tanzanian Coffee Board                                                                     6\n",
       "Torch Coffee Lab Yunnan                                                                    2\n",
       "Specialty Coffee Ass                                                                       1\n",
       "Central De Organizaciones Productoras De Café y Cacao Del Perú - Central Café & Cacao      1\n",
       "Blossom Valley International\\n                                                             1\n",
       "Name: In.Country.Partner, dtype: int64"
      ]
     },
     "execution_count": 10,
     "metadata": {},
     "output_type": "execute_result"
    }
   ],
   "source": [
    "coffee_df['In.Country.Partner'].value_counts()"
   ]
  },
  {
   "cell_type": "code",
   "execution_count": 11,
   "id": "d8994b74-709f-4de0-bcdb-dd5ce3c4dfa4",
   "metadata": {
    "tags": []
   },
   "outputs": [
    {
     "data": {
      "text/plain": [
       "AMECAFE                                                                                  205\n",
       "Africa Fine Coffee Association                                                            49\n",
       "Almacafé                                                                                 178\n",
       "Asociacion Nacional Del Café                                                             155\n",
       "Asociación Mexicana De Cafés y Cafeterías De Especialidad A.C.                             6\n",
       "Asociación de Cafés Especiales de Nicaragua                                                8\n",
       "Blossom Valley International                                                              59\n",
       "Brazil Specialty Coffee Association                                                       67\n",
       "Central De Organizaciones Productoras De Café y Cacao Del Perú - Central Café & Cacao      1\n",
       "Centro Agroecológico del Café A.C.                                                         8\n",
       "Coffee Quality Institute                                                                   7\n",
       "Ethiopia Commodity Exchange                                                               18\n",
       "Instituto Hondureño del Café                                                              60\n",
       "Kenya Coffee Traders Association                                                          22\n",
       "METAD Agricultural Development plc                                                        15\n",
       "NUCOFFEE                                                                                  36\n",
       "Salvadoran Coffee Council                                                                 11\n",
       "Specialty Coffee Association                                                             296\n",
       "Specialty Coffee Association of Costa Rica                                                42\n",
       "Specialty Coffee Association of Indonesia                                                 10\n",
       "Specialty Coffee Institute of Asia                                                        16\n",
       "Tanzanian Coffee Board                                                                     6\n",
       "Torch Coffee Lab Yunnan                                                                    2\n",
       "Uganda Coffee Development Authority                                                       22\n",
       "Yunnan Coffee Exchange                                                                    12\n",
       "Name: in_country_partner_clean, dtype: int64"
      ]
     },
     "execution_count": 11,
     "metadata": {},
     "output_type": "execute_result"
    }
   ],
   "source": [
    "partner_corrections = {'Blossom Valley International\\n':'Blossom Valley International',\n",
    "  'Specialty Coffee Ass':'Specialty Coffee Association'}\n",
    "coffee_df['in_country_partner_clean'] = coffee_df['In.Country.Partner'].replace(\n",
    "  to_replace=partner_corrections)\n",
    "coffee_df['in_country_partner_clean'].value_counts().sort_index()"
   ]
  },
  {
   "cell_type": "code",
   "execution_count": null,
   "id": "90592fba-4932-4b53-92b4-ebe7720471d8",
   "metadata": {},
   "outputs": [],
   "source": []
  }
 ],
 "metadata": {
  "kernelspec": {
   "display_name": "Python 3 (ipykernel)",
   "language": "python",
   "name": "python3"
  },
  "language_info": {
   "codemirror_mode": {
    "name": "ipython",
    "version": 3
   },
   "file_extension": ".py",
   "mimetype": "text/x-python",
   "name": "python",
   "nbconvert_exporter": "python",
   "pygments_lexer": "ipython3",
   "version": "3.11.4"
  }
 },
 "nbformat": 4,
 "nbformat_minor": 5
}
