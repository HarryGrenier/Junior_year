{
 "cells": [
  {
   "cell_type": "code",
   "execution_count": 1,
   "id": "5255bcd5-4d50-4e54-86f2-2d37b8f1048f",
   "metadata": {
    "tags": []
   },
   "outputs": [],
   "source": [
    "import pandas as pd"
   ]
  },
  {
   "cell_type": "markdown",
   "id": "122ffc5f-169e-4662-9872-ea00239ce15e",
   "metadata": {},
   "source": [
    "# First data set"
   ]
  },
  {
   "cell_type": "code",
   "execution_count": 2,
   "id": "ce6ed81c-0636-43c0-82b0-517158cc40b0",
   "metadata": {
    "tags": []
   },
   "outputs": [],
   "source": [
    "first_data_set = pd.read_csv('capacity.csv')"
   ]
  },
  {
   "cell_type": "code",
   "execution_count": 3,
   "id": "8345329e-6588-49f6-a18f-9d0db9fc3a6d",
   "metadata": {
    "tags": []
   },
   "outputs": [
    {
     "name": "stdout",
     "output_type": "stream",
     "text": [
      "    type  year  standalone_prior  hybrid_prior  standalone_new  hybrid_new  \\\n",
      "0  Solar  2014         25.052420      0.000000       19.511700    0.000000   \n",
      "1  Solar  2015         33.055120      0.000000       23.763492    0.000000   \n",
      "2  Solar  2016         36.977478      0.000000       83.332539    0.000000   \n",
      "3  Solar  2017         83.578314      0.000000      104.931034    0.000000   \n",
      "4  Solar  2018        138.198438     11.556250      115.544645   17.666710   \n",
      "5  Solar  2019        155.783796     43.000118      109.784725   58.583096   \n",
      "6  Solar  2020        195.560800     95.964300      107.615327   63.304300   \n",
      "\n",
      "     total_gw  \n",
      "0   44.564120  \n",
      "1   56.818612  \n",
      "2  120.310017  \n",
      "3  188.509348  \n",
      "4  282.966042  \n",
      "5  367.151735  \n",
      "6  462.444727  \n"
     ]
    }
   ],
   "source": [
    "print(first_data_set.head(7))"
   ]
  },
  {
   "cell_type": "code",
   "execution_count": 4,
   "id": "5ca2cdca-570b-4857-8b34-8ed98a92d83c",
   "metadata": {
    "tags": []
   },
   "outputs": [],
   "source": [
    "numerical_columns = first_data_set.select_dtypes(include=['number'])"
   ]
  },
  {
   "cell_type": "code",
   "execution_count": 5,
   "id": "680af20b-a60e-4458-82c8-b9c6832b7900",
   "metadata": {
    "tags": []
   },
   "outputs": [],
   "source": [
    "numerical_data = numerical_columns.to_numpy()"
   ]
  },
  {
   "cell_type": "code",
   "execution_count": 6,
   "id": "5846cd4a-f393-4b20-85d4-d39d8e6b39c0",
   "metadata": {
    "tags": []
   },
   "outputs": [],
   "source": [
    "numerical_array = numerical_data"
   ]
  },
  {
   "cell_type": "code",
   "execution_count": 7,
   "id": "b63d6538-684c-4648-96fa-4fd3ca9b65a3",
   "metadata": {
    "tags": []
   },
   "outputs": [
    {
     "name": "stdout",
     "output_type": "stream",
     "text": [
      "[[2.01400000e+03 2.50524200e+01 0.00000000e+00 1.95117000e+01\n",
      "  0.00000000e+00 4.45641200e+01]\n",
      " [2.01500000e+03 3.30551200e+01 0.00000000e+00 2.37634920e+01\n",
      "  0.00000000e+00 5.68186120e+01]\n",
      " [2.01600000e+03 3.69774780e+01 0.00000000e+00 8.33325392e+01\n",
      "  0.00000000e+00 1.20310017e+02]\n",
      " [2.01700000e+03 8.35783140e+01 0.00000000e+00 1.04931034e+02\n",
      "  0.00000000e+00 1.88509348e+02]\n",
      " [2.01800000e+03 1.38198438e+02 1.15562500e+01 1.15544645e+02\n",
      "  1.76667100e+01 2.82966042e+02]\n",
      " [2.01900000e+03 1.55783796e+02 4.30001180e+01 1.09784725e+02\n",
      "  5.85830964e+01 3.67151735e+02]\n",
      " [2.02000000e+03 1.95560800e+02 9.59643000e+01 1.07615327e+02\n",
      "  6.33043000e+01 4.62444727e+02]\n",
      " [2.01400000e+03 6.66734500e+01 0.00000000e+00 2.92024500e+01\n",
      "  0.00000000e+00 9.58759000e+01]\n",
      " [2.01500000e+03 6.50272850e+01 0.00000000e+00 4.45625600e+01\n",
      "  0.00000000e+00 1.09589845e+02]\n",
      " [2.01600000e+03 7.47512900e+01 0.00000000e+00 6.69241600e+01\n",
      "  0.00000000e+00 1.41675450e+02]\n",
      " [2.01700000e+03 9.87261700e+01 0.00000000e+00 8.14483150e+01\n",
      "  0.00000000e+00 1.80174485e+02]\n",
      " [2.01800000e+03 1.38143055e+02 2.18999000e+00 9.10017449e+01\n",
      "  8.28400012e-01 2.32163190e+02]\n",
      " [2.01900000e+03 1.58948814e+02 2.37050000e+00 5.56400100e+01\n",
      "  8.54290000e+00 2.25502224e+02]\n",
      " [2.02000000e+03 1.51414500e+02 2.95200000e+00 4.44953000e+01\n",
      "  1.02770000e+01 2.09138800e+02]\n",
      " [2.01400000e+03 0.00000000e+00            nan 0.00000000e+00\n",
      "             nan 0.00000000e+00]\n",
      " [2.01500000e+03 1.76074000e+00            nan 5.54240000e+00\n",
      "             nan 7.30314000e+00]\n",
      " [2.01600000e+03 5.10035000e+00            nan 6.63781500e+00\n",
      "             nan 1.17381650e+01]\n",
      " [2.01700000e+03 1.00559300e+01            nan 8.82642500e+00\n",
      "             nan 1.88823550e+01]\n",
      " [2.01800000e+03 9.41003000e+00            nan 1.96233943e+01\n",
      "             nan 2.90334243e+01]\n",
      " [2.01900000e+03 1.80669530e+01            nan 3.73363660e+01\n",
      "             nan 5.54033190e+01]\n",
      " [2.02000000e+03 4.17393500e+01 6.71318800e+01 5.09970000e+01\n",
      "  4.45985100e+01 2.04466740e+02]\n",
      " [2.01400000e+03 7.99663800e+01 0.00000000e+00 6.51747000e+01\n",
      "  0.00000000e+00 1.45141080e+02]\n",
      " [2.01500000e+03 1.05119612e+02 0.00000000e+00 5.82296660e+01\n",
      "  0.00000000e+00 1.63349278e+02]\n",
      " [2.01600000e+03 9.36193820e+01 0.00000000e+00 3.97563190e+01\n",
      "  0.00000000e+00 1.33375701e+02]\n",
      " [2.01700000e+03 7.47701080e+01 0.00000000e+00 3.61003600e+01\n",
      "  0.00000000e+00 1.10870468e+02]\n",
      " [2.01800000e+03 5.82473270e+01 1.05800000e-01 2.74209400e+01\n",
      "  2.38450000e-01 8.60125170e+01]\n",
      " [2.01900000e+03 4.82793040e+01 3.48800000e-01 2.84470300e+01\n",
      "  1.31500000e-01 7.72066340e+01]\n",
      " [2.02000000e+03 4.80379000e+01 1.22100000e+00 2.17908000e+01\n",
      "  2.97200000e+00 7.40217000e+01]\n",
      " [2.01400000e+03 5.75800000e+00            nan 4.20500000e+00\n",
      "             nan 9.96300000e+00]\n",
      " [2.01500000e+03 9.55400000e+00            nan 0.00000000e+00\n",
      "             nan 9.55400000e+00]\n",
      " [2.01600000e+03 1.40800000e+00            nan 9.52200000e-01\n",
      "             nan 2.36020000e+00]\n",
      " [2.01700000e+03 7.44200000e-01            nan 8.06000000e-02\n",
      "             nan 8.24800000e-01]\n",
      " [2.01800000e+03 5.84800000e-01            nan 6.45100000e-01\n",
      "             nan 1.22990000e+00]\n",
      " [2.01900000e+03 3.28350000e+00            nan 5.00000000e-02\n",
      "             nan 3.33350000e+00]\n",
      " [2.02000000e+03 3.28230000e+00 0.00000000e+00 1.00000000e-01\n",
      "  0.00000000e+00 3.38230000e+00]\n",
      " [2.01400000e+03 1.78300000e+00            nan 1.83680000e+00\n",
      "             nan 3.61980000e+00]\n",
      " [2.01500000e+03 3.16900000e+00            nan 4.92000000e-01\n",
      "             nan 3.66100000e+00]\n",
      " [2.01600000e+03 8.45000000e-01            nan 3.00000000e-02\n",
      "             nan 8.75000000e-01]\n",
      " [2.01700000e+03 1.79000000e-01            nan 1.40000000e-02\n",
      "             nan 1.93000000e-01]\n",
      " [2.01800000e+03 8.30000000e-02            nan 7.36000000e-01\n",
      "             nan 8.19000000e-01]\n",
      " [2.01900000e+03 3.90000000e-02            nan 1.10000000e-02\n",
      "             nan 5.00000000e-02]\n",
      " [2.02000000e+03 1.30700000e-01 0.00000000e+00 0.00000000e+00\n",
      "  0.00000000e+00 1.30700000e-01]\n",
      " [2.01400000e+03 1.83490900e+01            nan 7.05730000e+00\n",
      "             nan 2.54063900e+01]\n",
      " [2.01500000e+03 9.36488600e+00            nan 3.79696700e+00\n",
      "             nan 1.31618530e+01]\n",
      " [2.01600000e+03 6.03314000e+00            nan 4.43909000e+00\n",
      "             nan 1.04722300e+01]\n",
      " [2.01700000e+03 3.98900000e+00            nan 2.24446000e+00\n",
      "             nan 6.23346000e+00]\n",
      " [2.01800000e+03 3.62198400e+00            nan 2.96745100e+00\n",
      "             nan 6.58943500e+00]\n",
      " [2.01900000e+03 4.10227900e+00            nan 5.45401000e-01\n",
      "             nan 4.64768000e+00]\n",
      " [2.02000000e+03 5.41296000e+00 6.72000000e-02 8.03300000e-01\n",
      "  1.62922900e+00 7.91268900e+00]]\n"
     ]
    }
   ],
   "source": [
    "print(numerical_array)"
   ]
  },
  {
   "cell_type": "markdown",
   "id": "63379d61-04d9-4094-9ecc-deeed04128c3",
   "metadata": {},
   "source": [
    "This is not a very good format at all its very messy and hard to read because there is no differentiation between the numbers."
   ]
  },
  {
   "cell_type": "markdown",
   "id": "7634e0e9-fcc4-49fb-82bd-b1a3262c6889",
   "metadata": {},
   "source": [
    "# Second Data set"
   ]
  },
  {
   "cell_type": "code",
   "execution_count": 8,
   "id": "a9bb21e2-3b3a-466c-a26b-5fee3bf78e1b",
   "metadata": {
    "tags": []
   },
   "outputs": [],
   "source": [
    "Second_data_set = pd.read_csv('games.csv')"
   ]
  },
  {
   "cell_type": "code",
   "execution_count": 9,
   "id": "61e86b4e-ce73-43e7-91a4-b6efb517f412",
   "metadata": {
    "tags": []
   },
   "outputs": [
    {
     "name": "stdout",
     "output_type": "stream",
     "text": [
      "                               gamename  year month     avg  gain  peak  \\\n",
      "83623                            Caster  2012  July    1.10   NaN     6   \n",
      "83624        F.E.A.R. 2: Project Origin  2012  July  121.24   NaN   229   \n",
      "83625                        Hard Reset  2012  July   71.16   NaN   147   \n",
      "83626  Medal of Honor(TM) Single Player  2012  July   19.34   NaN    47   \n",
      "83627                     Mount & Blade  2012  July  248.73   NaN   610   \n",
      "83628            Arma: Cold War Assault  2012  July    6.76   NaN    15   \n",
      "83629                    Alpha Protocol  2012  July   26.94   NaN    52   \n",
      "83630                           Far Cry  2012  July   59.01   NaN   191   \n",
      "\n",
      "      avg_peak_perc  \n",
      "83623      18.3333%  \n",
      "83624      52.9432%  \n",
      "83625      48.4082%  \n",
      "83626      41.1489%  \n",
      "83627      40.7754%  \n",
      "83628      45.0667%  \n",
      "83629      51.8077%  \n",
      "83630      30.8953%  \n"
     ]
    }
   ],
   "source": [
    "print(Second_data_set.tail(8))"
   ]
  },
  {
   "cell_type": "code",
   "execution_count": 10,
   "id": "05948593-2ba4-455f-9879-f2fde897d873",
   "metadata": {
    "tags": []
   },
   "outputs": [
    {
     "name": "stdout",
     "output_type": "stream",
     "text": [
      "gamename          object\n",
      "year               int64\n",
      "month             object\n",
      "avg              float64\n",
      "gain             float64\n",
      "peak               int64\n",
      "avg_peak_perc     object\n",
      "dtype: object\n"
     ]
    }
   ],
   "source": [
    "print(Second_data_set.dtypes)"
   ]
  },
  {
   "cell_type": "markdown",
   "id": "8d9e16c4-c8a3-4f97-b4b0-eb1bb9d37fbf",
   "metadata": {},
   "source": [
    "Yes, the gamename is read as a object along with the avg_peak_perc and month from some research I have discoved that object dtype can store not only strings but also mixed data types."
   ]
  },
  {
   "cell_type": "markdown",
   "id": "5df13861-5d48-4d45-bddb-190b95f8a15a",
   "metadata": {},
   "source": [
    "# Third Data set"
   ]
  },
  {
   "cell_type": "code",
   "execution_count": 11,
   "id": "878671c0-8161-4826-bc07-c7d24f0b8f23",
   "metadata": {
    "tags": []
   },
   "outputs": [],
   "source": [
    "Third_data_set = pd.read_csv('American movies.csv')"
   ]
  },
  {
   "cell_type": "code",
   "execution_count": 12,
   "id": "f09926b2-7e8a-473d-9085-6129b1989b73",
   "metadata": {
    "tags": []
   },
   "outputs": [],
   "source": [
    "Data_frame = Third_data_set.loc[5::5, ['title','year']]"
   ]
  },
  {
   "cell_type": "code",
   "execution_count": 13,
   "id": "9a996d1b-6acc-4a0b-90d3-2c77b3f79ce4",
   "metadata": {
    "tags": []
   },
   "outputs": [
    {
     "name": "stdout",
     "output_type": "stream",
     "text": [
      "                                    title  year\n",
      "5      Capture of Boer Battery by British  1900\n",
      "10                       New Morning Bath  1900\n",
      "15                         Two Old Sparks  1900\n",
      "20         Another Job for the Undertaker  1901\n",
      "25                      Beef Extract Room  1901\n",
      "...                                   ...   ...\n",
      "36250             Five Nights at Freddy's  2023\n",
      "36255     Chicken Run: Dawn of the Nugget  2023\n",
      "36260                     A Family Affair  2023\n",
      "36265              Leave the World Behind  2023\n",
      "36270                          Rebel Moon  2023\n",
      "\n",
      "[7254 rows x 2 columns]\n"
     ]
    }
   ],
   "source": [
    "print(Data_frame)"
   ]
  },
  {
   "cell_type": "markdown",
   "id": "5c0faa20-ceca-4e79-b606-e8e81c7cc828",
   "metadata": {},
   "source": [
    "# Exploring data files"
   ]
  },
  {
   "cell_type": "code",
   "execution_count": 14,
   "id": "b1cd2646-2e68-4cb0-aa6c-aac5e77dcf0a",
   "metadata": {
    "tags": []
   },
   "outputs": [],
   "source": [
    "df = pd.read_csv('data/german.data')"
   ]
  },
  {
   "cell_type": "code",
   "execution_count": 15,
   "id": "99dbb450-6dbc-48e3-bdc7-a156407b9519",
   "metadata": {
    "tags": []
   },
   "outputs": [
    {
     "name": "stdout",
     "output_type": "stream",
     "text": [
      "    A11 6 A34 A43 1169 A65 A75 4 A93 A101 4 A121 67 A143 A152 2 A173 1 A192 A201 1\n",
      "0    A12 48 A32 A43 5951 A61 A73 2 A92 A101 2 A121 ...                            \n",
      "1    A14 12 A34 A46 2096 A61 A74 2 A93 A101 3 A121 ...                            \n",
      "2    A11 42 A32 A42 7882 A61 A74 2 A93 A103 4 A122 ...                            \n",
      "3    A11 24 A33 A40 4870 A61 A73 3 A93 A101 4 A124 ...                            \n",
      "4    A14 36 A32 A46 9055 A65 A73 2 A93 A101 4 A124 ...                            \n",
      "..                                                 ...                            \n",
      "994  A14 12 A32 A42 1736 A61 A74 3 A92 A101 4 A121 ...                            \n",
      "995  A11 30 A32 A41 3857 A61 A73 4 A91 A101 4 A122 ...                            \n",
      "996  A14 12 A32 A43 804 A61 A75 4 A93 A101 4 A123 3...                            \n",
      "997  A11 45 A32 A43 1845 A61 A73 4 A93 A101 4 A124 ...                            \n",
      "998  A12 45 A34 A41 4576 A62 A71 3 A93 A101 4 A123 ...                            \n",
      "\n",
      "[999 rows x 1 columns]\n"
     ]
    }
   ],
   "source": [
    "print(df)"
   ]
  },
  {
   "cell_type": "markdown",
   "id": "60ca8097-350b-4529-bf88-34b2f3fc68d8",
   "metadata": {
    "tags": []
   },
   "source": [
    "I beleave the data looks how it should i dont see any issues with the data displayed."
   ]
  },
  {
   "cell_type": "code",
   "execution_count": 18,
   "id": "130ed4d7-6317-4812-9026-e8bcb27bbcb5",
   "metadata": {
    "tags": []
   },
   "outputs": [
    {
     "ename": "ParserError",
     "evalue": "Error tokenizing data. C error: Expected 4 fields in line 6, saw 5\n",
     "output_type": "error",
     "traceback": [
      "\u001b[1;31m---------------------------------------------------------------------------\u001b[0m",
      "\u001b[1;31mParserError\u001b[0m                               Traceback (most recent call last)",
      "Cell \u001b[1;32mIn[18], line 1\u001b[0m\n\u001b[1;32m----> 1\u001b[0m df \u001b[38;5;241m=\u001b[39m pd\u001b[38;5;241m.\u001b[39mread_csv(\u001b[38;5;124m'\u001b[39m\u001b[38;5;124mdata/communication.csv\u001b[39m\u001b[38;5;124m'\u001b[39m)\n",
      "File \u001b[1;32m~\\anaconda3\\Lib\\site-packages\\pandas\\util\\_decorators.py:211\u001b[0m, in \u001b[0;36mdeprecate_kwarg.<locals>._deprecate_kwarg.<locals>.wrapper\u001b[1;34m(*args, **kwargs)\u001b[0m\n\u001b[0;32m    209\u001b[0m     \u001b[38;5;28;01melse\u001b[39;00m:\n\u001b[0;32m    210\u001b[0m         kwargs[new_arg_name] \u001b[38;5;241m=\u001b[39m new_arg_value\n\u001b[1;32m--> 211\u001b[0m \u001b[38;5;28;01mreturn\u001b[39;00m func(\u001b[38;5;241m*\u001b[39margs, \u001b[38;5;241m*\u001b[39m\u001b[38;5;241m*\u001b[39mkwargs)\n",
      "File \u001b[1;32m~\\anaconda3\\Lib\\site-packages\\pandas\\util\\_decorators.py:331\u001b[0m, in \u001b[0;36mdeprecate_nonkeyword_arguments.<locals>.decorate.<locals>.wrapper\u001b[1;34m(*args, **kwargs)\u001b[0m\n\u001b[0;32m    325\u001b[0m \u001b[38;5;28;01mif\u001b[39;00m \u001b[38;5;28mlen\u001b[39m(args) \u001b[38;5;241m>\u001b[39m num_allow_args:\n\u001b[0;32m    326\u001b[0m     warnings\u001b[38;5;241m.\u001b[39mwarn(\n\u001b[0;32m    327\u001b[0m         msg\u001b[38;5;241m.\u001b[39mformat(arguments\u001b[38;5;241m=\u001b[39m_format_argument_list(allow_args)),\n\u001b[0;32m    328\u001b[0m         \u001b[38;5;167;01mFutureWarning\u001b[39;00m,\n\u001b[0;32m    329\u001b[0m         stacklevel\u001b[38;5;241m=\u001b[39mfind_stack_level(),\n\u001b[0;32m    330\u001b[0m     )\n\u001b[1;32m--> 331\u001b[0m \u001b[38;5;28;01mreturn\u001b[39;00m func(\u001b[38;5;241m*\u001b[39margs, \u001b[38;5;241m*\u001b[39m\u001b[38;5;241m*\u001b[39mkwargs)\n",
      "File \u001b[1;32m~\\anaconda3\\Lib\\site-packages\\pandas\\io\\parsers\\readers.py:950\u001b[0m, in \u001b[0;36mread_csv\u001b[1;34m(filepath_or_buffer, sep, delimiter, header, names, index_col, usecols, squeeze, prefix, mangle_dupe_cols, dtype, engine, converters, true_values, false_values, skipinitialspace, skiprows, skipfooter, nrows, na_values, keep_default_na, na_filter, verbose, skip_blank_lines, parse_dates, infer_datetime_format, keep_date_col, date_parser, dayfirst, cache_dates, iterator, chunksize, compression, thousands, decimal, lineterminator, quotechar, quoting, doublequote, escapechar, comment, encoding, encoding_errors, dialect, error_bad_lines, warn_bad_lines, on_bad_lines, delim_whitespace, low_memory, memory_map, float_precision, storage_options)\u001b[0m\n\u001b[0;32m    935\u001b[0m kwds_defaults \u001b[38;5;241m=\u001b[39m _refine_defaults_read(\n\u001b[0;32m    936\u001b[0m     dialect,\n\u001b[0;32m    937\u001b[0m     delimiter,\n\u001b[1;32m   (...)\u001b[0m\n\u001b[0;32m    946\u001b[0m     defaults\u001b[38;5;241m=\u001b[39m{\u001b[38;5;124m\"\u001b[39m\u001b[38;5;124mdelimiter\u001b[39m\u001b[38;5;124m\"\u001b[39m: \u001b[38;5;124m\"\u001b[39m\u001b[38;5;124m,\u001b[39m\u001b[38;5;124m\"\u001b[39m},\n\u001b[0;32m    947\u001b[0m )\n\u001b[0;32m    948\u001b[0m kwds\u001b[38;5;241m.\u001b[39mupdate(kwds_defaults)\n\u001b[1;32m--> 950\u001b[0m \u001b[38;5;28;01mreturn\u001b[39;00m _read(filepath_or_buffer, kwds)\n",
      "File \u001b[1;32m~\\anaconda3\\Lib\\site-packages\\pandas\\io\\parsers\\readers.py:611\u001b[0m, in \u001b[0;36m_read\u001b[1;34m(filepath_or_buffer, kwds)\u001b[0m\n\u001b[0;32m    608\u001b[0m     \u001b[38;5;28;01mreturn\u001b[39;00m parser\n\u001b[0;32m    610\u001b[0m \u001b[38;5;28;01mwith\u001b[39;00m parser:\n\u001b[1;32m--> 611\u001b[0m     \u001b[38;5;28;01mreturn\u001b[39;00m parser\u001b[38;5;241m.\u001b[39mread(nrows)\n",
      "File \u001b[1;32m~\\anaconda3\\Lib\\site-packages\\pandas\\io\\parsers\\readers.py:1778\u001b[0m, in \u001b[0;36mTextFileReader.read\u001b[1;34m(self, nrows)\u001b[0m\n\u001b[0;32m   1771\u001b[0m nrows \u001b[38;5;241m=\u001b[39m validate_integer(\u001b[38;5;124m\"\u001b[39m\u001b[38;5;124mnrows\u001b[39m\u001b[38;5;124m\"\u001b[39m, nrows)\n\u001b[0;32m   1772\u001b[0m \u001b[38;5;28;01mtry\u001b[39;00m:\n\u001b[0;32m   1773\u001b[0m     \u001b[38;5;66;03m# error: \"ParserBase\" has no attribute \"read\"\u001b[39;00m\n\u001b[0;32m   1774\u001b[0m     (\n\u001b[0;32m   1775\u001b[0m         index,\n\u001b[0;32m   1776\u001b[0m         columns,\n\u001b[0;32m   1777\u001b[0m         col_dict,\n\u001b[1;32m-> 1778\u001b[0m     ) \u001b[38;5;241m=\u001b[39m \u001b[38;5;28mself\u001b[39m\u001b[38;5;241m.\u001b[39m_engine\u001b[38;5;241m.\u001b[39mread(  \u001b[38;5;66;03m# type: ignore[attr-defined]\u001b[39;00m\n\u001b[0;32m   1779\u001b[0m         nrows\n\u001b[0;32m   1780\u001b[0m     )\n\u001b[0;32m   1781\u001b[0m \u001b[38;5;28;01mexcept\u001b[39;00m \u001b[38;5;167;01mException\u001b[39;00m:\n\u001b[0;32m   1782\u001b[0m     \u001b[38;5;28mself\u001b[39m\u001b[38;5;241m.\u001b[39mclose()\n",
      "File \u001b[1;32m~\\anaconda3\\Lib\\site-packages\\pandas\\io\\parsers\\c_parser_wrapper.py:230\u001b[0m, in \u001b[0;36mCParserWrapper.read\u001b[1;34m(self, nrows)\u001b[0m\n\u001b[0;32m    228\u001b[0m \u001b[38;5;28;01mtry\u001b[39;00m:\n\u001b[0;32m    229\u001b[0m     \u001b[38;5;28;01mif\u001b[39;00m \u001b[38;5;28mself\u001b[39m\u001b[38;5;241m.\u001b[39mlow_memory:\n\u001b[1;32m--> 230\u001b[0m         chunks \u001b[38;5;241m=\u001b[39m \u001b[38;5;28mself\u001b[39m\u001b[38;5;241m.\u001b[39m_reader\u001b[38;5;241m.\u001b[39mread_low_memory(nrows)\n\u001b[0;32m    231\u001b[0m         \u001b[38;5;66;03m# destructive to chunks\u001b[39;00m\n\u001b[0;32m    232\u001b[0m         data \u001b[38;5;241m=\u001b[39m _concatenate_chunks(chunks)\n",
      "File \u001b[1;32m~\\anaconda3\\Lib\\site-packages\\pandas\\_libs\\parsers.pyx:808\u001b[0m, in \u001b[0;36mpandas._libs.parsers.TextReader.read_low_memory\u001b[1;34m()\u001b[0m\n",
      "File \u001b[1;32m~\\anaconda3\\Lib\\site-packages\\pandas\\_libs\\parsers.pyx:866\u001b[0m, in \u001b[0;36mpandas._libs.parsers.TextReader._read_rows\u001b[1;34m()\u001b[0m\n",
      "File \u001b[1;32m~\\anaconda3\\Lib\\site-packages\\pandas\\_libs\\parsers.pyx:852\u001b[0m, in \u001b[0;36mpandas._libs.parsers.TextReader._tokenize_rows\u001b[1;34m()\u001b[0m\n",
      "File \u001b[1;32m~\\anaconda3\\Lib\\site-packages\\pandas\\_libs\\parsers.pyx:1973\u001b[0m, in \u001b[0;36mpandas._libs.parsers.raise_parser_error\u001b[1;34m()\u001b[0m\n",
      "\u001b[1;31mParserError\u001b[0m: Error tokenizing data. C error: Expected 4 fields in line 6, saw 5\n"
     ]
    }
   ],
   "source": [
    "df = pd.read_csv('data/communication.csv', sep=\"|\")"
   ]
  },
  {
   "cell_type": "code",
   "execution_count": null,
   "id": "ddefc9dd-633d-4aaa-8fd6-980b7416f5b1",
   "metadata": {},
   "outputs": [],
   "source": []
  }
 ],
 "metadata": {
  "kernelspec": {
   "display_name": "Python 3 (ipykernel)",
   "language": "python",
   "name": "python3"
  },
  "language_info": {
   "codemirror_mode": {
    "name": "ipython",
    "version": 3
   },
   "file_extension": ".py",
   "mimetype": "text/x-python",
   "name": "python",
   "nbconvert_exporter": "python",
   "pygments_lexer": "ipython3",
   "version": "3.11.4"
  }
 },
 "nbformat": 4,
 "nbformat_minor": 5
}
