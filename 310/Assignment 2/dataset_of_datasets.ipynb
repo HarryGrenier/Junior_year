{
 "cells": [
  {
   "cell_type": "code",
   "execution_count": 1,
   "id": "8b7ac4f4-e247-4b77-9666-e7b0a7c5a68a",
   "metadata": {
    "tags": []
   },
   "outputs": [],
   "source": [
    "import pandas as pd"
   ]
  },
  {
   "cell_type": "code",
   "execution_count": 2,
   "id": "7012b486-1eec-4540-a9a9-7b9179cb8fb1",
   "metadata": {
    "tags": []
   },
   "outputs": [],
   "source": [
    "from datasets import *"
   ]
  },
  {
   "cell_type": "code",
   "execution_count": 3,
   "id": "54211ad5-7463-473c-88b7-326303812eea",
   "metadata": {
    "tags": []
   },
   "outputs": [],
   "source": [
    "meta_data_list = []"
   ]
  },
  {
   "cell_type": "code",
   "execution_count": 4,
   "id": "5c448657-5bc0-4a38-9c5d-06f3523a2943",
   "metadata": {
    "tags": []
   },
   "outputs": [],
   "source": [
    "for dataset_dict in dataset_list:\n",
    "    data = dataset_dict['load_func'](dataset_dict['url'])\n",
    "    name = dataset_dict['name']\n",
    "    file_name = f\"{name}.csv\"\n",
    "    data.to_csv(file_name, index=False)\n",
    "    meta_data = {\n",
    "        'Name': name,\n",
    "        'URL': dataset_dict['url'],\n",
    "        'num_rows': data.shape[0],\n",
    "        'num_columns': data.shape[1],\n",
    "        'num_numerical': len(data.select_dtypes(include=['number']).columns)   \n",
    "    }\n",
    "    meta_data_list.append(meta_data)\n",
    "    "
   ]
  },
  {
   "cell_type": "code",
   "execution_count": 5,
   "id": "66f647dd-49e5-4fc1-9576-d9364eadc4ad",
   "metadata": {
    "tags": []
   },
   "outputs": [],
   "source": [
    "data_frame = pd.DataFrame(meta_data_list)"
   ]
  },
  {
   "cell_type": "code",
   "execution_count": 6,
   "id": "2c22d190-2935-43c7-87e7-b79c3e519be3",
   "metadata": {
    "tags": []
   },
   "outputs": [
    {
     "name": "stdout",
     "output_type": "stream",
     "text": [
      "              Name                                                URL  \\\n",
      "0         capacity  https://raw.githubusercontent.com/rfordatascie...   \n",
      "1            games  https://raw.githubusercontent.com/rfordatascie...   \n",
      "2  American movies  https://raw.githubusercontent.com/prust/wikipe...   \n",
      "\n",
      "   num_rows  num_columns  num_numerical  \n",
      "0        49            7              6  \n",
      "1     83631            7              4  \n",
      "2     36273            9              3  \n"
     ]
    }
   ],
   "source": [
    "print(data_frame)"
   ]
  },
  {
   "cell_type": "code",
   "execution_count": null,
   "id": "3a24b9c0-0173-4f65-b5c1-b0482ce8c0cf",
   "metadata": {},
   "outputs": [],
   "source": []
  }
 ],
 "metadata": {
  "kernelspec": {
   "display_name": "Python 3 (ipykernel)",
   "language": "python",
   "name": "python3"
  },
  "language_info": {
   "codemirror_mode": {
    "name": "ipython",
    "version": 3
   },
   "file_extension": ".py",
   "mimetype": "text/x-python",
   "name": "python",
   "nbconvert_exporter": "python",
   "pygments_lexer": "ipython3",
   "version": "3.11.4"
  }
 },
 "nbformat": 4,
 "nbformat_minor": 5
}
