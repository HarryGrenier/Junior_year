{
 "cells": [
  {
   "cell_type": "markdown",
   "id": "2c1a4a7e-5caa-4e91-8f8f-fe09511611ee",
   "metadata": {},
   "source": [
    "# Assignment 1 Grading calculator"
   ]
  },
  {
   "cell_type": "code",
   "execution_count": 1,
   "id": "c063b129-a1f7-47e4-8555-454ab3d0ac13",
   "metadata": {
    "tags": []
   },
   "outputs": [],
   "source": [
    "def compute_grade(num_level1, num_level2, num_level3):\n",
    "    Minimum_grade_requirements = {\n",
    "        'A': (15, 15, 15),\n",
    "        'A-': (15, 15, 10),\n",
    "        'B+': (15, 15, 5),\n",
    "        'B': (15, 15, 0),\n",
    "        'B-': (15, 10, 0),\n",
    "        'C+': (15, 5, 0),\n",
    "        'C': (15, 0, 0),\n",
    "        'C-': (10, 0, 0),\n",
    "        'D+': (5, 0, 0),\n",
    "        'D': (3, 0, 0),\n",
    "    }\n",
    "\n",
    "    for grade, Minimum in Minimum_grade_requirements.items():\n",
    "        if num_level1 >= Minimum[0] and num_level2 >= Minimum[1] and num_level3 >= Minimum[2]:\n",
    "            return grade\n",
    "        \n",
    "    return 'F'"
   ]
  },
  {
   "cell_type": "code",
   "execution_count": 2,
   "id": "a7bc1fee-0972-4a50-bffd-f728558191f2",
   "metadata": {
    "tags": []
   },
   "outputs": [],
   "source": [
    "assert compute_grade(15,15,15) == 'A'"
   ]
  },
  {
   "cell_type": "code",
   "execution_count": 3,
   "id": "c941ebbf-5e92-4b54-8493-ec1e8270d2d9",
   "metadata": {
    "tags": []
   },
   "outputs": [],
   "source": [
    "assert compute_grade(15,14,14) == 'B-'"
   ]
  },
  {
   "cell_type": "code",
   "execution_count": 4,
   "id": "787a948c-b2b0-483d-9899-a8bce15d3e83",
   "metadata": {
    "tags": []
   },
   "outputs": [],
   "source": [
    "assert compute_grade(15,15,6) =='B+'"
   ]
  },
  {
   "cell_type": "code",
   "execution_count": 5,
   "id": "0fe831c6-979f-485c-aedd-bc71f9401c48",
   "metadata": {
    "tags": []
   },
   "outputs": [],
   "source": [
    "Test_Cases = {\n",
    "    'A' : (15,15,15),\n",
    "    'A-': (15,15,13),\n",
    "    'B-' : (15,14,14),\n",
    "    'C-' : (14,14,14),\n",
    "    'D' : (4,3,1),\n",
    "    'B+' : (15,15,6),\n",
    "}"
   ]
  },
  {
   "cell_type": "code",
   "execution_count": 6,
   "id": "429fc986-c935-4231-bf27-e9d894ed10d2",
   "metadata": {
    "tags": []
   },
   "outputs": [],
   "source": [
    "for grade, Tests in Test_Cases.items():\n",
    "        assert compute_grade(Tests[0],Tests[1],Tests[2]) == grade"
   ]
  }
 ],
 "metadata": {
  "kernelspec": {
   "display_name": "Python 3 (ipykernel)",
   "language": "python",
   "name": "python3"
  },
  "language_info": {
   "codemirror_mode": {
    "name": "ipython",
    "version": 3
   },
   "file_extension": ".py",
   "mimetype": "text/x-python",
   "name": "python",
   "nbconvert_exporter": "python",
   "pygments_lexer": "ipython3",
   "version": "3.11.4"
  }
 },
 "nbformat": 4,
 "nbformat_minor": 5
}
